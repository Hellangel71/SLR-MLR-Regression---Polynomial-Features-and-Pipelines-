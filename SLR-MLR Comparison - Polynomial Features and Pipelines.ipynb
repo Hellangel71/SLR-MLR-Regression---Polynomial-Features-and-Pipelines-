{
 "cells": [
  {
   "cell_type": "markdown",
   "metadata": {},
   "source": [
    "# Import Libraries "
   ]
  },
  {
   "cell_type": "code",
   "execution_count": 1,
   "metadata": {},
   "outputs": [],
   "source": [
    "import numpy as np\n",
    "import pandas as pd\n",
    "import seaborn as sns\n",
    "from matplotlib import pyplot as plt\n",
    "from sklearn.preprocessing import StandardScaler\n",
    "from sklearn.model_selection import train_test_split,GridSearchCV,cross_val_score\n",
    "from sklearn.linear_model import LinearRegression\n",
    "from sklearn.metrics import r2_score,mean_absolute_error,mean_squared_error\n",
    "from sklearn.preprocessing import PolynomialFeatures\n",
    "from sklearn.pipeline import make_pipeline,Pipeline\n",
    "%matplotlib inline"
   ]
  },
  {
   "cell_type": "markdown",
   "metadata": {},
   "source": [
    "# Load the data"
   ]
  },
  {
   "cell_type": "code",
   "execution_count": 2,
   "metadata": {},
   "outputs": [
    {
     "name": "stdout",
     "output_type": "stream",
     "text": [
      "Data read into dataframe!\n"
     ]
    }
   ],
   "source": [
    "df = pd.read_csv(\"C:\\\\Users\\Swaroop\\Desktop\\Data_Projects\\\\bottle.csv\",low_memory = False)\n",
    "print(\"Data read into dataframe!\")"
   ]
  },
  {
   "cell_type": "markdown",
   "metadata": {},
   "source": [
    "# Initial Analysis"
   ]
  },
  {
   "cell_type": "code",
   "execution_count": 3,
   "metadata": {},
   "outputs": [
    {
     "data": {
      "text/html": [
       "<div>\n",
       "<style scoped>\n",
       "    .dataframe tbody tr th:only-of-type {\n",
       "        vertical-align: middle;\n",
       "    }\n",
       "\n",
       "    .dataframe tbody tr th {\n",
       "        vertical-align: top;\n",
       "    }\n",
       "\n",
       "    .dataframe thead th {\n",
       "        text-align: right;\n",
       "    }\n",
       "</style>\n",
       "<table border=\"1\" class=\"dataframe\">\n",
       "  <thead>\n",
       "    <tr style=\"text-align: right;\">\n",
       "      <th></th>\n",
       "      <th>Cst_Cnt</th>\n",
       "      <th>Btl_Cnt</th>\n",
       "      <th>Sta_ID</th>\n",
       "      <th>Depth_ID</th>\n",
       "      <th>Depthm</th>\n",
       "      <th>T_degC</th>\n",
       "      <th>Salnty</th>\n",
       "      <th>O2ml_L</th>\n",
       "      <th>STheta</th>\n",
       "      <th>O2Sat</th>\n",
       "      <th>...</th>\n",
       "      <th>R_PHAEO</th>\n",
       "      <th>R_PRES</th>\n",
       "      <th>R_SAMP</th>\n",
       "      <th>DIC1</th>\n",
       "      <th>DIC2</th>\n",
       "      <th>TA1</th>\n",
       "      <th>TA2</th>\n",
       "      <th>pH2</th>\n",
       "      <th>pH1</th>\n",
       "      <th>DIC Quality Comment</th>\n",
       "    </tr>\n",
       "  </thead>\n",
       "  <tbody>\n",
       "    <tr>\n",
       "      <th>0</th>\n",
       "      <td>1</td>\n",
       "      <td>1</td>\n",
       "      <td>054.0 056.0</td>\n",
       "      <td>19-4903CR-HY-060-0930-05400560-0000A-3</td>\n",
       "      <td>0</td>\n",
       "      <td>10.50</td>\n",
       "      <td>33.440</td>\n",
       "      <td>NaN</td>\n",
       "      <td>25.649</td>\n",
       "      <td>NaN</td>\n",
       "      <td>...</td>\n",
       "      <td>NaN</td>\n",
       "      <td>0</td>\n",
       "      <td>NaN</td>\n",
       "      <td>NaN</td>\n",
       "      <td>NaN</td>\n",
       "      <td>NaN</td>\n",
       "      <td>NaN</td>\n",
       "      <td>NaN</td>\n",
       "      <td>NaN</td>\n",
       "      <td>NaN</td>\n",
       "    </tr>\n",
       "    <tr>\n",
       "      <th>1</th>\n",
       "      <td>1</td>\n",
       "      <td>2</td>\n",
       "      <td>054.0 056.0</td>\n",
       "      <td>19-4903CR-HY-060-0930-05400560-0008A-3</td>\n",
       "      <td>8</td>\n",
       "      <td>10.46</td>\n",
       "      <td>33.440</td>\n",
       "      <td>NaN</td>\n",
       "      <td>25.656</td>\n",
       "      <td>NaN</td>\n",
       "      <td>...</td>\n",
       "      <td>NaN</td>\n",
       "      <td>8</td>\n",
       "      <td>NaN</td>\n",
       "      <td>NaN</td>\n",
       "      <td>NaN</td>\n",
       "      <td>NaN</td>\n",
       "      <td>NaN</td>\n",
       "      <td>NaN</td>\n",
       "      <td>NaN</td>\n",
       "      <td>NaN</td>\n",
       "    </tr>\n",
       "    <tr>\n",
       "      <th>2</th>\n",
       "      <td>1</td>\n",
       "      <td>3</td>\n",
       "      <td>054.0 056.0</td>\n",
       "      <td>19-4903CR-HY-060-0930-05400560-0010A-7</td>\n",
       "      <td>10</td>\n",
       "      <td>10.46</td>\n",
       "      <td>33.437</td>\n",
       "      <td>NaN</td>\n",
       "      <td>25.654</td>\n",
       "      <td>NaN</td>\n",
       "      <td>...</td>\n",
       "      <td>NaN</td>\n",
       "      <td>10</td>\n",
       "      <td>NaN</td>\n",
       "      <td>NaN</td>\n",
       "      <td>NaN</td>\n",
       "      <td>NaN</td>\n",
       "      <td>NaN</td>\n",
       "      <td>NaN</td>\n",
       "      <td>NaN</td>\n",
       "      <td>NaN</td>\n",
       "    </tr>\n",
       "    <tr>\n",
       "      <th>3</th>\n",
       "      <td>1</td>\n",
       "      <td>4</td>\n",
       "      <td>054.0 056.0</td>\n",
       "      <td>19-4903CR-HY-060-0930-05400560-0019A-3</td>\n",
       "      <td>19</td>\n",
       "      <td>10.45</td>\n",
       "      <td>33.420</td>\n",
       "      <td>NaN</td>\n",
       "      <td>25.643</td>\n",
       "      <td>NaN</td>\n",
       "      <td>...</td>\n",
       "      <td>NaN</td>\n",
       "      <td>19</td>\n",
       "      <td>NaN</td>\n",
       "      <td>NaN</td>\n",
       "      <td>NaN</td>\n",
       "      <td>NaN</td>\n",
       "      <td>NaN</td>\n",
       "      <td>NaN</td>\n",
       "      <td>NaN</td>\n",
       "      <td>NaN</td>\n",
       "    </tr>\n",
       "    <tr>\n",
       "      <th>4</th>\n",
       "      <td>1</td>\n",
       "      <td>5</td>\n",
       "      <td>054.0 056.0</td>\n",
       "      <td>19-4903CR-HY-060-0930-05400560-0020A-7</td>\n",
       "      <td>20</td>\n",
       "      <td>10.45</td>\n",
       "      <td>33.421</td>\n",
       "      <td>NaN</td>\n",
       "      <td>25.643</td>\n",
       "      <td>NaN</td>\n",
       "      <td>...</td>\n",
       "      <td>NaN</td>\n",
       "      <td>20</td>\n",
       "      <td>NaN</td>\n",
       "      <td>NaN</td>\n",
       "      <td>NaN</td>\n",
       "      <td>NaN</td>\n",
       "      <td>NaN</td>\n",
       "      <td>NaN</td>\n",
       "      <td>NaN</td>\n",
       "      <td>NaN</td>\n",
       "    </tr>\n",
       "    <tr>\n",
       "      <th>5</th>\n",
       "      <td>1</td>\n",
       "      <td>6</td>\n",
       "      <td>054.0 056.0</td>\n",
       "      <td>19-4903CR-HY-060-0930-05400560-0030A-7</td>\n",
       "      <td>30</td>\n",
       "      <td>10.45</td>\n",
       "      <td>33.431</td>\n",
       "      <td>NaN</td>\n",
       "      <td>25.651</td>\n",
       "      <td>NaN</td>\n",
       "      <td>...</td>\n",
       "      <td>NaN</td>\n",
       "      <td>30</td>\n",
       "      <td>NaN</td>\n",
       "      <td>NaN</td>\n",
       "      <td>NaN</td>\n",
       "      <td>NaN</td>\n",
       "      <td>NaN</td>\n",
       "      <td>NaN</td>\n",
       "      <td>NaN</td>\n",
       "      <td>NaN</td>\n",
       "    </tr>\n",
       "    <tr>\n",
       "      <th>6</th>\n",
       "      <td>1</td>\n",
       "      <td>7</td>\n",
       "      <td>054.0 056.0</td>\n",
       "      <td>19-4903CR-HY-060-0930-05400560-0039A-3</td>\n",
       "      <td>39</td>\n",
       "      <td>10.45</td>\n",
       "      <td>33.440</td>\n",
       "      <td>NaN</td>\n",
       "      <td>25.658</td>\n",
       "      <td>NaN</td>\n",
       "      <td>...</td>\n",
       "      <td>NaN</td>\n",
       "      <td>39</td>\n",
       "      <td>NaN</td>\n",
       "      <td>NaN</td>\n",
       "      <td>NaN</td>\n",
       "      <td>NaN</td>\n",
       "      <td>NaN</td>\n",
       "      <td>NaN</td>\n",
       "      <td>NaN</td>\n",
       "      <td>NaN</td>\n",
       "    </tr>\n",
       "    <tr>\n",
       "      <th>7</th>\n",
       "      <td>1</td>\n",
       "      <td>8</td>\n",
       "      <td>054.0 056.0</td>\n",
       "      <td>19-4903CR-HY-060-0930-05400560-0050A-7</td>\n",
       "      <td>50</td>\n",
       "      <td>10.24</td>\n",
       "      <td>33.424</td>\n",
       "      <td>NaN</td>\n",
       "      <td>25.682</td>\n",
       "      <td>NaN</td>\n",
       "      <td>...</td>\n",
       "      <td>NaN</td>\n",
       "      <td>50</td>\n",
       "      <td>NaN</td>\n",
       "      <td>NaN</td>\n",
       "      <td>NaN</td>\n",
       "      <td>NaN</td>\n",
       "      <td>NaN</td>\n",
       "      <td>NaN</td>\n",
       "      <td>NaN</td>\n",
       "      <td>NaN</td>\n",
       "    </tr>\n",
       "    <tr>\n",
       "      <th>8</th>\n",
       "      <td>1</td>\n",
       "      <td>9</td>\n",
       "      <td>054.0 056.0</td>\n",
       "      <td>19-4903CR-HY-060-0930-05400560-0058A-3</td>\n",
       "      <td>58</td>\n",
       "      <td>10.06</td>\n",
       "      <td>33.420</td>\n",
       "      <td>NaN</td>\n",
       "      <td>25.710</td>\n",
       "      <td>NaN</td>\n",
       "      <td>...</td>\n",
       "      <td>NaN</td>\n",
       "      <td>58</td>\n",
       "      <td>NaN</td>\n",
       "      <td>NaN</td>\n",
       "      <td>NaN</td>\n",
       "      <td>NaN</td>\n",
       "      <td>NaN</td>\n",
       "      <td>NaN</td>\n",
       "      <td>NaN</td>\n",
       "      <td>NaN</td>\n",
       "    </tr>\n",
       "    <tr>\n",
       "      <th>9</th>\n",
       "      <td>1</td>\n",
       "      <td>10</td>\n",
       "      <td>054.0 056.0</td>\n",
       "      <td>19-4903CR-HY-060-0930-05400560-0075A-7</td>\n",
       "      <td>75</td>\n",
       "      <td>9.86</td>\n",
       "      <td>33.494</td>\n",
       "      <td>NaN</td>\n",
       "      <td>25.801</td>\n",
       "      <td>NaN</td>\n",
       "      <td>...</td>\n",
       "      <td>NaN</td>\n",
       "      <td>75</td>\n",
       "      <td>NaN</td>\n",
       "      <td>NaN</td>\n",
       "      <td>NaN</td>\n",
       "      <td>NaN</td>\n",
       "      <td>NaN</td>\n",
       "      <td>NaN</td>\n",
       "      <td>NaN</td>\n",
       "      <td>NaN</td>\n",
       "    </tr>\n",
       "  </tbody>\n",
       "</table>\n",
       "<p>10 rows × 74 columns</p>\n",
       "</div>"
      ],
      "text/plain": [
       "   Cst_Cnt  Btl_Cnt       Sta_ID                                Depth_ID  \\\n",
       "0        1        1  054.0 056.0  19-4903CR-HY-060-0930-05400560-0000A-3   \n",
       "1        1        2  054.0 056.0  19-4903CR-HY-060-0930-05400560-0008A-3   \n",
       "2        1        3  054.0 056.0  19-4903CR-HY-060-0930-05400560-0010A-7   \n",
       "3        1        4  054.0 056.0  19-4903CR-HY-060-0930-05400560-0019A-3   \n",
       "4        1        5  054.0 056.0  19-4903CR-HY-060-0930-05400560-0020A-7   \n",
       "5        1        6  054.0 056.0  19-4903CR-HY-060-0930-05400560-0030A-7   \n",
       "6        1        7  054.0 056.0  19-4903CR-HY-060-0930-05400560-0039A-3   \n",
       "7        1        8  054.0 056.0  19-4903CR-HY-060-0930-05400560-0050A-7   \n",
       "8        1        9  054.0 056.0  19-4903CR-HY-060-0930-05400560-0058A-3   \n",
       "9        1       10  054.0 056.0  19-4903CR-HY-060-0930-05400560-0075A-7   \n",
       "\n",
       "   Depthm  T_degC  Salnty  O2ml_L  STheta  O2Sat         ...           \\\n",
       "0       0   10.50  33.440     NaN  25.649    NaN         ...            \n",
       "1       8   10.46  33.440     NaN  25.656    NaN         ...            \n",
       "2      10   10.46  33.437     NaN  25.654    NaN         ...            \n",
       "3      19   10.45  33.420     NaN  25.643    NaN         ...            \n",
       "4      20   10.45  33.421     NaN  25.643    NaN         ...            \n",
       "5      30   10.45  33.431     NaN  25.651    NaN         ...            \n",
       "6      39   10.45  33.440     NaN  25.658    NaN         ...            \n",
       "7      50   10.24  33.424     NaN  25.682    NaN         ...            \n",
       "8      58   10.06  33.420     NaN  25.710    NaN         ...            \n",
       "9      75    9.86  33.494     NaN  25.801    NaN         ...            \n",
       "\n",
       "   R_PHAEO  R_PRES  R_SAMP  DIC1  DIC2  TA1  TA2  pH2  pH1  \\\n",
       "0      NaN       0     NaN   NaN   NaN  NaN  NaN  NaN  NaN   \n",
       "1      NaN       8     NaN   NaN   NaN  NaN  NaN  NaN  NaN   \n",
       "2      NaN      10     NaN   NaN   NaN  NaN  NaN  NaN  NaN   \n",
       "3      NaN      19     NaN   NaN   NaN  NaN  NaN  NaN  NaN   \n",
       "4      NaN      20     NaN   NaN   NaN  NaN  NaN  NaN  NaN   \n",
       "5      NaN      30     NaN   NaN   NaN  NaN  NaN  NaN  NaN   \n",
       "6      NaN      39     NaN   NaN   NaN  NaN  NaN  NaN  NaN   \n",
       "7      NaN      50     NaN   NaN   NaN  NaN  NaN  NaN  NaN   \n",
       "8      NaN      58     NaN   NaN   NaN  NaN  NaN  NaN  NaN   \n",
       "9      NaN      75     NaN   NaN   NaN  NaN  NaN  NaN  NaN   \n",
       "\n",
       "   DIC Quality Comment  \n",
       "0                  NaN  \n",
       "1                  NaN  \n",
       "2                  NaN  \n",
       "3                  NaN  \n",
       "4                  NaN  \n",
       "5                  NaN  \n",
       "6                  NaN  \n",
       "7                  NaN  \n",
       "8                  NaN  \n",
       "9                  NaN  \n",
       "\n",
       "[10 rows x 74 columns]"
      ]
     },
     "execution_count": 3,
     "metadata": {},
     "output_type": "execute_result"
    }
   ],
   "source": [
    "df.head(10)"
   ]
  },
  {
   "cell_type": "markdown",
   "metadata": {},
   "source": [
    "### Check the shape of data"
   ]
  },
  {
   "cell_type": "code",
   "execution_count": 4,
   "metadata": {},
   "outputs": [
    {
     "data": {
      "text/plain": [
       "(864863, 74)"
      ]
     },
     "execution_count": 4,
     "metadata": {},
     "output_type": "execute_result"
    }
   ],
   "source": [
    "df.shape"
   ]
  },
  {
   "cell_type": "markdown",
   "metadata": {},
   "source": [
    "### Check the column headings"
   ]
  },
  {
   "cell_type": "code",
   "execution_count": 5,
   "metadata": {},
   "outputs": [
    {
     "data": {
      "text/plain": [
       "Index(['Cst_Cnt', 'Btl_Cnt', 'Sta_ID', 'Depth_ID', 'Depthm', 'T_degC',\n",
       "       'Salnty', 'O2ml_L', 'STheta', 'O2Sat', 'Oxy_µmol/Kg', 'BtlNum',\n",
       "       'RecInd', 'T_prec', 'T_qual', 'S_prec', 'S_qual', 'P_qual', 'O_qual',\n",
       "       'SThtaq', 'O2Satq', 'ChlorA', 'Chlqua', 'Phaeop', 'Phaqua', 'PO4uM',\n",
       "       'PO4q', 'SiO3uM', 'SiO3qu', 'NO2uM', 'NO2q', 'NO3uM', 'NO3q', 'NH3uM',\n",
       "       'NH3q', 'C14As1', 'C14A1p', 'C14A1q', 'C14As2', 'C14A2p', 'C14A2q',\n",
       "       'DarkAs', 'DarkAp', 'DarkAq', 'MeanAs', 'MeanAp', 'MeanAq', 'IncTim',\n",
       "       'LightP', 'R_Depth', 'R_TEMP', 'R_POTEMP', 'R_SALINITY', 'R_SIGMA',\n",
       "       'R_SVA', 'R_DYNHT', 'R_O2', 'R_O2Sat', 'R_SIO3', 'R_PO4', 'R_NO3',\n",
       "       'R_NO2', 'R_NH4', 'R_CHLA', 'R_PHAEO', 'R_PRES', 'R_SAMP', 'DIC1',\n",
       "       'DIC2', 'TA1', 'TA2', 'pH2', 'pH1', 'DIC Quality Comment'],\n",
       "      dtype='object')"
      ]
     },
     "execution_count": 5,
     "metadata": {},
     "output_type": "execute_result"
    }
   ],
   "source": [
    "df.columns"
   ]
  },
  {
   "cell_type": "markdown",
   "metadata": {},
   "source": [
    "### Check if database consists any missing values"
   ]
  },
  {
   "cell_type": "code",
   "execution_count": 6,
   "metadata": {},
   "outputs": [
    {
     "name": "stdout",
     "output_type": "stream",
     "text": [
      "<class 'pandas.core.frame.DataFrame'>\n",
      "RangeIndex: 864863 entries, 0 to 864862\n",
      "Data columns (total 74 columns):\n",
      "Cst_Cnt                864863 non-null int64\n",
      "Btl_Cnt                864863 non-null int64\n",
      "Sta_ID                 864863 non-null object\n",
      "Depth_ID               864863 non-null object\n",
      "Depthm                 864863 non-null int64\n",
      "T_degC                 853900 non-null float64\n",
      "Salnty                 817509 non-null float64\n",
      "O2ml_L                 696201 non-null float64\n",
      "STheta                 812174 non-null float64\n",
      "O2Sat                  661274 non-null float64\n",
      "Oxy_µmol/Kg            661268 non-null float64\n",
      "BtlNum                 118667 non-null float64\n",
      "RecInd                 864863 non-null int64\n",
      "T_prec                 853900 non-null float64\n",
      "T_qual                 23127 non-null float64\n",
      "S_prec                 817509 non-null float64\n",
      "S_qual                 74914 non-null float64\n",
      "P_qual                 673755 non-null float64\n",
      "O_qual                 184676 non-null float64\n",
      "SThtaq                 65823 non-null float64\n",
      "O2Satq                 217797 non-null float64\n",
      "ChlorA                 225272 non-null float64\n",
      "Chlqua                 639166 non-null float64\n",
      "Phaeop                 225271 non-null float64\n",
      "Phaqua                 639170 non-null float64\n",
      "PO4uM                  413317 non-null float64\n",
      "PO4q                   451786 non-null float64\n",
      "SiO3uM                 354091 non-null float64\n",
      "SiO3qu                 510866 non-null float64\n",
      "NO2uM                  337576 non-null float64\n",
      "NO2q                   529474 non-null float64\n",
      "NO3uM                  337403 non-null float64\n",
      "NO3q                   529933 non-null float64\n",
      "NH3uM                  64962 non-null float64\n",
      "NH3q                   808299 non-null float64\n",
      "C14As1                 14432 non-null float64\n",
      "C14A1p                 12760 non-null float64\n",
      "C14A1q                 848605 non-null float64\n",
      "C14As2                 14414 non-null float64\n",
      "C14A2p                 12742 non-null float64\n",
      "C14A2q                 848623 non-null float64\n",
      "DarkAs                 22649 non-null float64\n",
      "DarkAp                 20457 non-null float64\n",
      "DarkAq                 840440 non-null float64\n",
      "MeanAs                 22650 non-null float64\n",
      "MeanAp                 20457 non-null float64\n",
      "MeanAq                 840439 non-null float64\n",
      "IncTim                 14437 non-null object\n",
      "LightP                 18651 non-null float64\n",
      "R_Depth                864863 non-null float64\n",
      "R_TEMP                 853900 non-null float64\n",
      "R_POTEMP               818816 non-null float64\n",
      "R_SALINITY             817509 non-null float64\n",
      "R_SIGMA                812007 non-null float64\n",
      "R_SVA                  812092 non-null float64\n",
      "R_DYNHT                818206 non-null float64\n",
      "R_O2                   696201 non-null float64\n",
      "R_O2Sat                666448 non-null float64\n",
      "R_SIO3                 354099 non-null float64\n",
      "R_PO4                  413325 non-null float64\n",
      "R_NO3                  337411 non-null float64\n",
      "R_NO2                  337584 non-null float64\n",
      "R_NH4                  64982 non-null float64\n",
      "R_CHLA                 225276 non-null float64\n",
      "R_PHAEO                225275 non-null float64\n",
      "R_PRES                 864863 non-null int64\n",
      "R_SAMP                 122006 non-null float64\n",
      "DIC1                   1999 non-null float64\n",
      "DIC2                   224 non-null float64\n",
      "TA1                    2084 non-null float64\n",
      "TA2                    234 non-null float64\n",
      "pH2                    10 non-null float64\n",
      "pH1                    84 non-null float64\n",
      "DIC Quality Comment    55 non-null object\n",
      "dtypes: float64(65), int64(5), object(4)\n",
      "memory usage: 488.3+ MB\n"
     ]
    }
   ],
   "source": [
    "df.info()"
   ]
  },
  {
   "cell_type": "markdown",
   "metadata": {},
   "source": [
    "### Check the percentage of missing values in each column"
   ]
  },
  {
   "cell_type": "code",
   "execution_count": 7,
   "metadata": {},
   "outputs": [
    {
     "data": {
      "text/plain": [
       "Cst_Cnt                 0.000000\n",
       "Btl_Cnt                 0.000000\n",
       "Sta_ID                  0.000000\n",
       "Depth_ID                0.000000\n",
       "Depthm                  0.000000\n",
       "T_degC                  1.267600\n",
       "Salnty                  5.475318\n",
       "O2ml_L                 19.501586\n",
       "STheta                  6.092179\n",
       "O2Sat                  23.540029\n",
       "Oxy_µmol/Kg            23.540723\n",
       "BtlNum                 86.279099\n",
       "RecInd                  0.000000\n",
       "T_prec                  1.267600\n",
       "T_qual                 97.325935\n",
       "S_prec                  5.475318\n",
       "S_qual                 91.338050\n",
       "P_qual                 22.096910\n",
       "O_qual                 78.646791\n",
       "SThtaq                 92.389199\n",
       "O2Satq                 74.817168\n",
       "ChlorA                 73.952869\n",
       "Chlqua                 26.096272\n",
       "Phaeop                 73.952984\n",
       "Phaqua                 26.095809\n",
       "PO4uM                  52.210119\n",
       "PO4q                   47.762131\n",
       "SiO3uM                 59.058140\n",
       "SiO3qu                 40.930991\n",
       "NO2uM                  60.967691\n",
       "                         ...    \n",
       "MeanAs                 97.381088\n",
       "MeanAp                 97.634654\n",
       "MeanAq                  2.824031\n",
       "IncTim                 98.330718\n",
       "LightP                 97.843473\n",
       "R_Depth                 0.000000\n",
       "R_TEMP                  1.267600\n",
       "R_POTEMP                5.324196\n",
       "R_SALINITY              5.475318\n",
       "R_SIGMA                 6.111488\n",
       "R_SVA                   6.101660\n",
       "R_DYNHT                 5.394727\n",
       "R_O2                   19.501586\n",
       "R_O2Sat                22.941784\n",
       "R_SIO3                 59.057215\n",
       "R_PO4                  52.209194\n",
       "R_NO3                  60.986769\n",
       "R_NO2                  60.966766\n",
       "R_NH4                  92.486440\n",
       "R_CHLA                 73.952406\n",
       "R_PHAEO                73.952522\n",
       "R_PRES                  0.000000\n",
       "R_SAMP                 85.893026\n",
       "DIC1                   99.768865\n",
       "DIC2                   99.974100\n",
       "TA1                    99.759037\n",
       "TA2                    99.972944\n",
       "pH2                    99.998844\n",
       "pH1                    99.990287\n",
       "DIC Quality Comment    99.993641\n",
       "Length: 74, dtype: float64"
      ]
     },
     "execution_count": 7,
     "metadata": {},
     "output_type": "execute_result"
    }
   ],
   "source": [
    "percent_missing = df.isnull().sum() * 100 / len(df)\n",
    "percent_missing"
   ]
  },
  {
   "cell_type": "markdown",
   "metadata": {},
   "source": [
    "### Remove columns with more than 15 percent null values"
   ]
  },
  {
   "cell_type": "code",
   "execution_count": 8,
   "metadata": {},
   "outputs": [],
   "source": [
    "thresh = len(df) * .85\n",
    "df.dropna(thresh = thresh, axis = 1, inplace = True)"
   ]
  },
  {
   "cell_type": "markdown",
   "metadata": {},
   "source": [
    "### Recheck percent missing"
   ]
  },
  {
   "cell_type": "code",
   "execution_count": 9,
   "metadata": {},
   "outputs": [
    {
     "data": {
      "text/plain": [
       "Cst_Cnt       0.000000\n",
       "Btl_Cnt       0.000000\n",
       "Sta_ID        0.000000\n",
       "Depth_ID      0.000000\n",
       "Depthm        0.000000\n",
       "T_degC        1.267600\n",
       "Salnty        5.475318\n",
       "STheta        6.092179\n",
       "RecInd        0.000000\n",
       "T_prec        1.267600\n",
       "S_prec        5.475318\n",
       "NH3q          6.540227\n",
       "C14A1q        1.879835\n",
       "C14A2q        1.877754\n",
       "DarkAq        2.823915\n",
       "MeanAq        2.824031\n",
       "R_Depth       0.000000\n",
       "R_TEMP        1.267600\n",
       "R_POTEMP      5.324196\n",
       "R_SALINITY    5.475318\n",
       "R_SIGMA       6.111488\n",
       "R_SVA         6.101660\n",
       "R_DYNHT       5.394727\n",
       "R_PRES        0.000000\n",
       "dtype: float64"
      ]
     },
     "execution_count": 9,
     "metadata": {},
     "output_type": "execute_result"
    }
   ],
   "source": [
    "percent_missing = df.isnull().sum() * 100 / len(df)\n",
    "percent_missing"
   ]
  },
  {
   "cell_type": "code",
   "execution_count": 10,
   "metadata": {},
   "outputs": [
    {
     "name": "stdout",
     "output_type": "stream",
     "text": [
      "<class 'pandas.core.frame.DataFrame'>\n",
      "RangeIndex: 864863 entries, 0 to 864862\n",
      "Data columns (total 24 columns):\n",
      "Cst_Cnt       864863 non-null int64\n",
      "Btl_Cnt       864863 non-null int64\n",
      "Sta_ID        864863 non-null object\n",
      "Depth_ID      864863 non-null object\n",
      "Depthm        864863 non-null int64\n",
      "T_degC        853900 non-null float64\n",
      "Salnty        817509 non-null float64\n",
      "STheta        812174 non-null float64\n",
      "RecInd        864863 non-null int64\n",
      "T_prec        853900 non-null float64\n",
      "S_prec        817509 non-null float64\n",
      "NH3q          808299 non-null float64\n",
      "C14A1q        848605 non-null float64\n",
      "C14A2q        848623 non-null float64\n",
      "DarkAq        840440 non-null float64\n",
      "MeanAq        840439 non-null float64\n",
      "R_Depth       864863 non-null float64\n",
      "R_TEMP        853900 non-null float64\n",
      "R_POTEMP      818816 non-null float64\n",
      "R_SALINITY    817509 non-null float64\n",
      "R_SIGMA       812007 non-null float64\n",
      "R_SVA         812092 non-null float64\n",
      "R_DYNHT       818206 non-null float64\n",
      "R_PRES        864863 non-null int64\n",
      "dtypes: float64(17), int64(5), object(2)\n",
      "memory usage: 158.4+ MB\n"
     ]
    }
   ],
   "source": [
    "df.info()"
   ]
  },
  {
   "cell_type": "markdown",
   "metadata": {},
   "source": [
    "### Simple Linear Regression"
   ]
  },
  {
   "cell_type": "markdown",
   "metadata": {},
   "source": [
    "### Create a subset of the database to reduce processing times"
   ]
  },
  {
   "cell_type": "code",
   "execution_count": 11,
   "metadata": {},
   "outputs": [
    {
     "data": {
      "text/html": [
       "<div>\n",
       "<style scoped>\n",
       "    .dataframe tbody tr th:only-of-type {\n",
       "        vertical-align: middle;\n",
       "    }\n",
       "\n",
       "    .dataframe tbody tr th {\n",
       "        vertical-align: top;\n",
       "    }\n",
       "\n",
       "    .dataframe thead th {\n",
       "        text-align: right;\n",
       "    }\n",
       "</style>\n",
       "<table border=\"1\" class=\"dataframe\">\n",
       "  <thead>\n",
       "    <tr style=\"text-align: right;\">\n",
       "      <th></th>\n",
       "      <th>Cst_Cnt</th>\n",
       "      <th>Btl_Cnt</th>\n",
       "      <th>Sta_ID</th>\n",
       "      <th>Depth_ID</th>\n",
       "      <th>Depthm</th>\n",
       "      <th>T_degC</th>\n",
       "      <th>Salnty</th>\n",
       "      <th>STheta</th>\n",
       "      <th>RecInd</th>\n",
       "      <th>T_prec</th>\n",
       "      <th>...</th>\n",
       "      <th>DarkAq</th>\n",
       "      <th>MeanAq</th>\n",
       "      <th>R_Depth</th>\n",
       "      <th>R_TEMP</th>\n",
       "      <th>R_POTEMP</th>\n",
       "      <th>R_SALINITY</th>\n",
       "      <th>R_SIGMA</th>\n",
       "      <th>R_SVA</th>\n",
       "      <th>R_DYNHT</th>\n",
       "      <th>R_PRES</th>\n",
       "    </tr>\n",
       "  </thead>\n",
       "  <tbody>\n",
       "    <tr>\n",
       "      <th>0</th>\n",
       "      <td>1</td>\n",
       "      <td>1</td>\n",
       "      <td>054.0 056.0</td>\n",
       "      <td>19-4903CR-HY-060-0930-05400560-0000A-3</td>\n",
       "      <td>0</td>\n",
       "      <td>10.50</td>\n",
       "      <td>33.440</td>\n",
       "      <td>25.649</td>\n",
       "      <td>3</td>\n",
       "      <td>1.0</td>\n",
       "      <td>...</td>\n",
       "      <td>9.0</td>\n",
       "      <td>9.0</td>\n",
       "      <td>0.0</td>\n",
       "      <td>10.50</td>\n",
       "      <td>10.50</td>\n",
       "      <td>33.440</td>\n",
       "      <td>25.64</td>\n",
       "      <td>233.0</td>\n",
       "      <td>0.00</td>\n",
       "      <td>0</td>\n",
       "    </tr>\n",
       "    <tr>\n",
       "      <th>1</th>\n",
       "      <td>1</td>\n",
       "      <td>2</td>\n",
       "      <td>054.0 056.0</td>\n",
       "      <td>19-4903CR-HY-060-0930-05400560-0008A-3</td>\n",
       "      <td>8</td>\n",
       "      <td>10.46</td>\n",
       "      <td>33.440</td>\n",
       "      <td>25.656</td>\n",
       "      <td>3</td>\n",
       "      <td>2.0</td>\n",
       "      <td>...</td>\n",
       "      <td>9.0</td>\n",
       "      <td>9.0</td>\n",
       "      <td>8.0</td>\n",
       "      <td>10.46</td>\n",
       "      <td>10.46</td>\n",
       "      <td>33.440</td>\n",
       "      <td>25.65</td>\n",
       "      <td>232.5</td>\n",
       "      <td>0.01</td>\n",
       "      <td>8</td>\n",
       "    </tr>\n",
       "    <tr>\n",
       "      <th>2</th>\n",
       "      <td>1</td>\n",
       "      <td>3</td>\n",
       "      <td>054.0 056.0</td>\n",
       "      <td>19-4903CR-HY-060-0930-05400560-0010A-7</td>\n",
       "      <td>10</td>\n",
       "      <td>10.46</td>\n",
       "      <td>33.437</td>\n",
       "      <td>25.654</td>\n",
       "      <td>7</td>\n",
       "      <td>2.0</td>\n",
       "      <td>...</td>\n",
       "      <td>9.0</td>\n",
       "      <td>9.0</td>\n",
       "      <td>10.0</td>\n",
       "      <td>10.46</td>\n",
       "      <td>10.46</td>\n",
       "      <td>33.437</td>\n",
       "      <td>25.65</td>\n",
       "      <td>232.8</td>\n",
       "      <td>0.02</td>\n",
       "      <td>10</td>\n",
       "    </tr>\n",
       "    <tr>\n",
       "      <th>3</th>\n",
       "      <td>1</td>\n",
       "      <td>4</td>\n",
       "      <td>054.0 056.0</td>\n",
       "      <td>19-4903CR-HY-060-0930-05400560-0019A-3</td>\n",
       "      <td>19</td>\n",
       "      <td>10.45</td>\n",
       "      <td>33.420</td>\n",
       "      <td>25.643</td>\n",
       "      <td>3</td>\n",
       "      <td>2.0</td>\n",
       "      <td>...</td>\n",
       "      <td>9.0</td>\n",
       "      <td>9.0</td>\n",
       "      <td>19.0</td>\n",
       "      <td>10.45</td>\n",
       "      <td>10.45</td>\n",
       "      <td>33.420</td>\n",
       "      <td>25.64</td>\n",
       "      <td>234.1</td>\n",
       "      <td>0.04</td>\n",
       "      <td>19</td>\n",
       "    </tr>\n",
       "    <tr>\n",
       "      <th>4</th>\n",
       "      <td>1</td>\n",
       "      <td>5</td>\n",
       "      <td>054.0 056.0</td>\n",
       "      <td>19-4903CR-HY-060-0930-05400560-0020A-7</td>\n",
       "      <td>20</td>\n",
       "      <td>10.45</td>\n",
       "      <td>33.421</td>\n",
       "      <td>25.643</td>\n",
       "      <td>7</td>\n",
       "      <td>2.0</td>\n",
       "      <td>...</td>\n",
       "      <td>9.0</td>\n",
       "      <td>9.0</td>\n",
       "      <td>20.0</td>\n",
       "      <td>10.45</td>\n",
       "      <td>10.45</td>\n",
       "      <td>33.421</td>\n",
       "      <td>25.64</td>\n",
       "      <td>234.0</td>\n",
       "      <td>0.04</td>\n",
       "      <td>20</td>\n",
       "    </tr>\n",
       "    <tr>\n",
       "      <th>5</th>\n",
       "      <td>1</td>\n",
       "      <td>6</td>\n",
       "      <td>054.0 056.0</td>\n",
       "      <td>19-4903CR-HY-060-0930-05400560-0030A-7</td>\n",
       "      <td>30</td>\n",
       "      <td>10.45</td>\n",
       "      <td>33.431</td>\n",
       "      <td>25.651</td>\n",
       "      <td>7</td>\n",
       "      <td>2.0</td>\n",
       "      <td>...</td>\n",
       "      <td>9.0</td>\n",
       "      <td>9.0</td>\n",
       "      <td>30.0</td>\n",
       "      <td>10.45</td>\n",
       "      <td>10.45</td>\n",
       "      <td>33.431</td>\n",
       "      <td>25.65</td>\n",
       "      <td>233.5</td>\n",
       "      <td>0.07</td>\n",
       "      <td>30</td>\n",
       "    </tr>\n",
       "    <tr>\n",
       "      <th>6</th>\n",
       "      <td>1</td>\n",
       "      <td>7</td>\n",
       "      <td>054.0 056.0</td>\n",
       "      <td>19-4903CR-HY-060-0930-05400560-0039A-3</td>\n",
       "      <td>39</td>\n",
       "      <td>10.45</td>\n",
       "      <td>33.440</td>\n",
       "      <td>25.658</td>\n",
       "      <td>3</td>\n",
       "      <td>2.0</td>\n",
       "      <td>...</td>\n",
       "      <td>9.0</td>\n",
       "      <td>9.0</td>\n",
       "      <td>39.0</td>\n",
       "      <td>10.45</td>\n",
       "      <td>10.45</td>\n",
       "      <td>33.440</td>\n",
       "      <td>25.65</td>\n",
       "      <td>233.0</td>\n",
       "      <td>0.09</td>\n",
       "      <td>39</td>\n",
       "    </tr>\n",
       "    <tr>\n",
       "      <th>7</th>\n",
       "      <td>1</td>\n",
       "      <td>8</td>\n",
       "      <td>054.0 056.0</td>\n",
       "      <td>19-4903CR-HY-060-0930-05400560-0050A-7</td>\n",
       "      <td>50</td>\n",
       "      <td>10.24</td>\n",
       "      <td>33.424</td>\n",
       "      <td>25.682</td>\n",
       "      <td>7</td>\n",
       "      <td>2.0</td>\n",
       "      <td>...</td>\n",
       "      <td>9.0</td>\n",
       "      <td>9.0</td>\n",
       "      <td>50.0</td>\n",
       "      <td>10.24</td>\n",
       "      <td>10.23</td>\n",
       "      <td>33.424</td>\n",
       "      <td>25.68</td>\n",
       "      <td>231.0</td>\n",
       "      <td>0.11</td>\n",
       "      <td>50</td>\n",
       "    </tr>\n",
       "    <tr>\n",
       "      <th>8</th>\n",
       "      <td>1</td>\n",
       "      <td>9</td>\n",
       "      <td>054.0 056.0</td>\n",
       "      <td>19-4903CR-HY-060-0930-05400560-0058A-3</td>\n",
       "      <td>58</td>\n",
       "      <td>10.06</td>\n",
       "      <td>33.420</td>\n",
       "      <td>25.710</td>\n",
       "      <td>3</td>\n",
       "      <td>2.0</td>\n",
       "      <td>...</td>\n",
       "      <td>9.0</td>\n",
       "      <td>9.0</td>\n",
       "      <td>58.0</td>\n",
       "      <td>10.06</td>\n",
       "      <td>10.05</td>\n",
       "      <td>33.420</td>\n",
       "      <td>25.71</td>\n",
       "      <td>228.5</td>\n",
       "      <td>0.13</td>\n",
       "      <td>58</td>\n",
       "    </tr>\n",
       "    <tr>\n",
       "      <th>9</th>\n",
       "      <td>1</td>\n",
       "      <td>10</td>\n",
       "      <td>054.0 056.0</td>\n",
       "      <td>19-4903CR-HY-060-0930-05400560-0075A-7</td>\n",
       "      <td>75</td>\n",
       "      <td>9.86</td>\n",
       "      <td>33.494</td>\n",
       "      <td>25.801</td>\n",
       "      <td>7</td>\n",
       "      <td>2.0</td>\n",
       "      <td>...</td>\n",
       "      <td>9.0</td>\n",
       "      <td>9.0</td>\n",
       "      <td>75.0</td>\n",
       "      <td>9.86</td>\n",
       "      <td>9.85</td>\n",
       "      <td>33.494</td>\n",
       "      <td>25.80</td>\n",
       "      <td>220.1</td>\n",
       "      <td>0.17</td>\n",
       "      <td>75</td>\n",
       "    </tr>\n",
       "  </tbody>\n",
       "</table>\n",
       "<p>10 rows × 24 columns</p>\n",
       "</div>"
      ],
      "text/plain": [
       "   Cst_Cnt  Btl_Cnt       Sta_ID                                Depth_ID  \\\n",
       "0        1        1  054.0 056.0  19-4903CR-HY-060-0930-05400560-0000A-3   \n",
       "1        1        2  054.0 056.0  19-4903CR-HY-060-0930-05400560-0008A-3   \n",
       "2        1        3  054.0 056.0  19-4903CR-HY-060-0930-05400560-0010A-7   \n",
       "3        1        4  054.0 056.0  19-4903CR-HY-060-0930-05400560-0019A-3   \n",
       "4        1        5  054.0 056.0  19-4903CR-HY-060-0930-05400560-0020A-7   \n",
       "5        1        6  054.0 056.0  19-4903CR-HY-060-0930-05400560-0030A-7   \n",
       "6        1        7  054.0 056.0  19-4903CR-HY-060-0930-05400560-0039A-3   \n",
       "7        1        8  054.0 056.0  19-4903CR-HY-060-0930-05400560-0050A-7   \n",
       "8        1        9  054.0 056.0  19-4903CR-HY-060-0930-05400560-0058A-3   \n",
       "9        1       10  054.0 056.0  19-4903CR-HY-060-0930-05400560-0075A-7   \n",
       "\n",
       "   Depthm  T_degC  Salnty  STheta  RecInd  T_prec   ...    DarkAq  MeanAq  \\\n",
       "0       0   10.50  33.440  25.649       3     1.0   ...       9.0     9.0   \n",
       "1       8   10.46  33.440  25.656       3     2.0   ...       9.0     9.0   \n",
       "2      10   10.46  33.437  25.654       7     2.0   ...       9.0     9.0   \n",
       "3      19   10.45  33.420  25.643       3     2.0   ...       9.0     9.0   \n",
       "4      20   10.45  33.421  25.643       7     2.0   ...       9.0     9.0   \n",
       "5      30   10.45  33.431  25.651       7     2.0   ...       9.0     9.0   \n",
       "6      39   10.45  33.440  25.658       3     2.0   ...       9.0     9.0   \n",
       "7      50   10.24  33.424  25.682       7     2.0   ...       9.0     9.0   \n",
       "8      58   10.06  33.420  25.710       3     2.0   ...       9.0     9.0   \n",
       "9      75    9.86  33.494  25.801       7     2.0   ...       9.0     9.0   \n",
       "\n",
       "   R_Depth  R_TEMP  R_POTEMP  R_SALINITY  R_SIGMA  R_SVA  R_DYNHT  R_PRES  \n",
       "0      0.0   10.50     10.50      33.440    25.64  233.0     0.00       0  \n",
       "1      8.0   10.46     10.46      33.440    25.65  232.5     0.01       8  \n",
       "2     10.0   10.46     10.46      33.437    25.65  232.8     0.02      10  \n",
       "3     19.0   10.45     10.45      33.420    25.64  234.1     0.04      19  \n",
       "4     20.0   10.45     10.45      33.421    25.64  234.0     0.04      20  \n",
       "5     30.0   10.45     10.45      33.431    25.65  233.5     0.07      30  \n",
       "6     39.0   10.45     10.45      33.440    25.65  233.0     0.09      39  \n",
       "7     50.0   10.24     10.23      33.424    25.68  231.0     0.11      50  \n",
       "8     58.0   10.06     10.05      33.420    25.71  228.5     0.13      58  \n",
       "9     75.0    9.86      9.85      33.494    25.80  220.1     0.17      75  \n",
       "\n",
       "[10 rows x 24 columns]"
      ]
     },
     "execution_count": 11,
     "metadata": {},
     "output_type": "execute_result"
    }
   ],
   "source": [
    "df2 = df[:][:1000]\n",
    "df2.head(10)"
   ]
  },
  {
   "cell_type": "markdown",
   "metadata": {},
   "source": [
    "### Check the subset for missing values"
   ]
  },
  {
   "cell_type": "code",
   "execution_count": 12,
   "metadata": {},
   "outputs": [
    {
     "data": {
      "text/plain": [
       "Cst_Cnt       0.0\n",
       "Btl_Cnt       0.0\n",
       "Sta_ID        0.0\n",
       "Depth_ID      0.0\n",
       "Depthm        0.0\n",
       "T_degC        0.2\n",
       "Salnty        3.0\n",
       "STheta        3.2\n",
       "RecInd        0.0\n",
       "T_prec        0.2\n",
       "S_prec        3.0\n",
       "NH3q          0.0\n",
       "C14A1q        0.0\n",
       "C14A2q        0.0\n",
       "DarkAq        0.0\n",
       "MeanAq        0.0\n",
       "R_Depth       0.0\n",
       "R_TEMP        0.2\n",
       "R_POTEMP      3.8\n",
       "R_SALINITY    3.0\n",
       "R_SIGMA       5.5\n",
       "R_SVA         5.5\n",
       "R_DYNHT       2.7\n",
       "R_PRES        0.0\n",
       "dtype: float64"
      ]
     },
     "execution_count": 12,
     "metadata": {},
     "output_type": "execute_result"
    }
   ],
   "source": [
    "percent_missing2 = df2.isnull().sum() * 100 / len(df2)\n",
    "percent_missing2"
   ]
  },
  {
   "cell_type": "markdown",
   "metadata": {},
   "source": [
    "### Fill the missing values"
   ]
  },
  {
   "cell_type": "code",
   "execution_count": 13,
   "metadata": {},
   "outputs": [
    {
     "name": "stdout",
     "output_type": "stream",
     "text": [
      "<class 'pandas.core.frame.DataFrame'>\n",
      "RangeIndex: 1000 entries, 0 to 999\n",
      "Data columns (total 24 columns):\n",
      "Cst_Cnt       1000 non-null int64\n",
      "Btl_Cnt       1000 non-null int64\n",
      "Sta_ID        1000 non-null object\n",
      "Depth_ID      1000 non-null object\n",
      "Depthm        1000 non-null int64\n",
      "T_degC        1000 non-null float64\n",
      "Salnty        1000 non-null float64\n",
      "STheta        1000 non-null float64\n",
      "RecInd        1000 non-null int64\n",
      "T_prec        1000 non-null float64\n",
      "S_prec        1000 non-null float64\n",
      "NH3q          1000 non-null float64\n",
      "C14A1q        1000 non-null float64\n",
      "C14A2q        1000 non-null float64\n",
      "DarkAq        1000 non-null float64\n",
      "MeanAq        1000 non-null float64\n",
      "R_Depth       1000 non-null float64\n",
      "R_TEMP        1000 non-null float64\n",
      "R_POTEMP      1000 non-null float64\n",
      "R_SALINITY    1000 non-null float64\n",
      "R_SIGMA       1000 non-null float64\n",
      "R_SVA         1000 non-null float64\n",
      "R_DYNHT       1000 non-null float64\n",
      "R_PRES        1000 non-null int64\n",
      "dtypes: float64(17), int64(5), object(2)\n",
      "memory usage: 187.6+ KB\n"
     ]
    }
   ],
   "source": [
    "df2 = df2.fillna(df2.mean())\n",
    "df2.info()"
   ]
  },
  {
   "cell_type": "markdown",
   "metadata": {},
   "source": [
    "### Histograms"
   ]
  },
  {
   "cell_type": "code",
   "execution_count": 14,
   "metadata": {},
   "outputs": [
    {
     "data": {
      "image/png": "[encoded data removed]",
      "text/plain": [
       "<Figure size 1152x1008 with 25 Axes>"
      ]
     },
     "metadata": {
      "needs_background": "light"
     },
     "output_type": "display_data"
    }
   ],
   "source": [
    "df2.hist(figsize = (16,14))\n",
    "plt.show()"
   ]
  },
  {
   "cell_type": "markdown",
   "metadata": {},
   "source": [
    "# Machine Learning"
   ]
  },
  {
   "cell_type": "markdown",
   "metadata": {},
   "source": [
    "## Simple Linear Regression"
   ]
  },
  {
   "cell_type": "markdown",
   "metadata": {},
   "source": [
    "### Seperate the features and target variable"
   ]
  },
  {
   "cell_type": "code",
   "execution_count": 15,
   "metadata": {},
   "outputs": [
    {
     "name": "stdout",
     "output_type": "stream",
     "text": [
      "(1000, 1)\n",
      "(1000, 1)\n"
     ]
    }
   ],
   "source": [
    "X = df2[[\"Salnty\"]]\n",
    "y = df2[[\"T_degC\"]]\n",
    "print(X.shape)\n",
    "print(y.shape)"
   ]
  },
  {
   "cell_type": "markdown",
   "metadata": {},
   "source": [
    "### Train Test Split"
   ]
  },
  {
   "cell_type": "code",
   "execution_count": 16,
   "metadata": {},
   "outputs": [
    {
     "name": "stdout",
     "output_type": "stream",
     "text": [
      "Train set: (800, 1) (800, 1)\n",
      "Test set: (200, 1) (200, 1)\n"
     ]
    }
   ],
   "source": [
    "from sklearn.model_selection import train_test_split\n",
    "X_train, X_test, y_train, y_test = train_test_split( X, y, test_size = 0.2, random_state = 42)\n",
    "print ('Train set:', X_train.shape,  y_train.shape)\n",
    "print ('Test set:', X_test.shape,  y_test.shape)"
   ]
  },
  {
   "cell_type": "markdown",
   "metadata": {},
   "source": [
    "### Scale the data"
   ]
  },
  {
   "cell_type": "code",
   "execution_count": 17,
   "metadata": {},
   "outputs": [],
   "source": [
    "sdc = StandardScaler()\n",
    "X_train = sdc.fit_transform(X_train)\n",
    "X_test = sdc.fit_transform(X_test)"
   ]
  },
  {
   "cell_type": "markdown",
   "metadata": {},
   "source": [
    "### Simple Linear Regression Initialize"
   ]
  },
  {
   "cell_type": "code",
   "execution_count": 18,
   "metadata": {},
   "outputs": [
    {
     "data": {
      "text/plain": [
       "LinearRegression(copy_X=True, fit_intercept=True, n_jobs=None,\n",
       "         normalize=False)"
      ]
     },
     "execution_count": 18,
     "metadata": {},
     "output_type": "execute_result"
    }
   ],
   "source": [
    "lr = LinearRegression()\n",
    "lr.fit(X_train, y_train)"
   ]
  },
  {
   "cell_type": "code",
   "execution_count": 19,
   "metadata": {},
   "outputs": [
    {
     "data": {
      "text/plain": [
       "array([[ 5.10476739],\n",
       "       [10.79448247],\n",
       "       [10.66575588],\n",
       "       [ 7.85951632],\n",
       "       [12.82836252]])"
      ]
     },
     "execution_count": 19,
     "metadata": {},
     "output_type": "execute_result"
    }
   ],
   "source": [
    "y_hat = lr.predict(X_test)\n",
    "y_hat[0:5]  "
   ]
  },
  {
   "cell_type": "markdown",
   "metadata": {},
   "source": [
    "### Display the intercept and co-efficient"
   ]
  },
  {
   "cell_type": "code",
   "execution_count": 20,
   "metadata": {},
   "outputs": [
    {
     "data": {
      "text/plain": [
       "array([8.39930914])"
      ]
     },
     "execution_count": 20,
     "metadata": {},
     "output_type": "execute_result"
    }
   ],
   "source": [
    "lr.intercept_"
   ]
  },
  {
   "cell_type": "code",
   "execution_count": 21,
   "metadata": {},
   "outputs": [
    {
     "data": {
      "text/plain": [
       "array([[-2.66292264]])"
      ]
     },
     "execution_count": 21,
     "metadata": {},
     "output_type": "execute_result"
    }
   ],
   "source": [
    "lr.coef_"
   ]
  },
  {
   "cell_type": "markdown",
   "metadata": {},
   "source": [
    "### Model accuracy and R squared value"
   ]
  },
  {
   "cell_type": "code",
   "execution_count": 22,
   "metadata": {},
   "outputs": [
    {
     "name": "stdout",
     "output_type": "stream",
     "text": [
      "Linear Regression Model accuracy: 68.10%\n"
     ]
    }
   ],
   "source": [
    "print(\"Linear Regression Model accuracy: \" +\"{:.2%}\".format(lr.score(X_test, y_test)))"
   ]
  },
  {
   "cell_type": "code",
   "execution_count": 23,
   "metadata": {},
   "outputs": [
    {
     "name": "stdout",
     "output_type": "stream",
     "text": [
      "R_Square Score: 0.681\n"
     ]
    }
   ],
   "source": [
    "print(\"R_Square Score: \" +\"{:.4}\".format(r2_score(y_test, y_hat)))"
   ]
  },
  {
   "cell_type": "markdown",
   "metadata": {},
   "source": [
    "### MAE, MSE and RMSE for Simple Linear Regression"
   ]
  },
  {
   "cell_type": "code",
   "execution_count": 24,
   "metadata": {},
   "outputs": [
    {
     "name": "stdout",
     "output_type": "stream",
     "text": [
      "Mean Absolute Error: 1.416\n",
      "Mean Squared Error: 3.58\n",
      "RMSE: 1.892\n"
     ]
    }
   ],
   "source": [
    "print(\"Mean Absolute Error: \" +\"{:.4}\".format(mean_absolute_error(y_test, y_hat)))\n",
    "print(\"Mean Squared Error: \" +\"{:.4}\".format(mean_squared_error(y_test, y_hat)))\n",
    "print(\"RMSE: \" +\"{:.4}\".format(np.sqrt(mean_squared_error(y_test, y_hat))))"
   ]
  },
  {
   "cell_type": "markdown",
   "metadata": {},
   "source": [
    "### Plot the best fit line (SNS Library plot)"
   ]
  },
  {
   "cell_type": "code",
   "execution_count": 70,
   "metadata": {},
   "outputs": [
    {
     "data": {
      "text/plain": [
       "(0, 20.635001751148106)"
      ]
     },
     "execution_count": 70,
     "metadata": {},
     "output_type": "execute_result"
    },
    {
     "data": {
      "image/png": "[encoded data removed]",
      "text/plain": [
       "<Figure size 1080x1296 with 1 Axes>"
      ]
     },
     "metadata": {
      "needs_background": "light"
     },
     "output_type": "display_data"
    }
   ],
   "source": [
    "width = 15\n",
    "height = 18\n",
    "plt.figure(figsize=(width, height))\n",
    "sns.regplot(x=df2[\"Salnty\"], y=df2[\"T_degC\"], data=df2)\n",
    "plt.ylim(0,)"
   ]
  },
  {
   "cell_type": "markdown",
   "metadata": {},
   "source": [
    "### Plot the best fit line (matplotlib plot)"
   ]
  },
  {
   "cell_type": "code",
   "execution_count": 26,
   "metadata": {},
   "outputs": [
    {
     "data": {
      "image/png": "[encoded data removed]",
      "text/plain": [
       "<Figure size 432x288 with 1 Axes>"
      ]
     },
     "metadata": {
      "needs_background": "light"
     },
     "output_type": "display_data"
    }
   ],
   "source": [
    "plt.scatter(X_test,y_test,color='blue')\n",
    "plt.plot(X_test,lr.predict(X_test),color='red')\n",
    "plt.title('X vs Y(Test Set)')\n",
    "plt.xlabel('X')\n",
    "plt.ylabel('Y')\n",
    "plt.show()"
   ]
  },
  {
   "cell_type": "markdown",
   "metadata": {},
   "source": [
    "### Regression using Polynomial Features"
   ]
  },
  {
   "cell_type": "code",
   "execution_count": 27,
   "metadata": {},
   "outputs": [
    {
     "name": "stdout",
     "output_type": "stream",
     "text": [
      "(800, 4)\n",
      "(200, 4)\n"
     ]
    }
   ],
   "source": [
    "pr = PolynomialFeatures(degree=3)\n",
    "X_train_pr = pr.fit_transform(X_train)\n",
    "X_test_pr = pr.fit_transform(X_test)\n",
    "pr\n",
    "print(X_train_pr.shape)\n",
    "print(X_test_pr.shape)"
   ]
  },
  {
   "cell_type": "markdown",
   "metadata": {},
   "source": [
    "### Initialize"
   ]
  },
  {
   "cell_type": "code",
   "execution_count": 28,
   "metadata": {},
   "outputs": [
    {
     "data": {
      "text/plain": [
       "LinearRegression(copy_X=True, fit_intercept=True, n_jobs=None,\n",
       "         normalize=False)"
      ]
     },
     "execution_count": 28,
     "metadata": {},
     "output_type": "execute_result"
    }
   ],
   "source": [
    "lr_poly = LinearRegression()\n",
    "lr_poly.fit(X_train_pr, y_train)"
   ]
  },
  {
   "cell_type": "code",
   "execution_count": 29,
   "metadata": {},
   "outputs": [
    {
     "data": {
      "text/plain": [
       "array([[ 4.48483015],\n",
       "       [11.78699953],\n",
       "       [11.71363774],\n",
       "       [ 8.33527062],\n",
       "       [11.30019929]])"
      ]
     },
     "execution_count": 29,
     "metadata": {},
     "output_type": "execute_result"
    }
   ],
   "source": [
    "y_hat_poly = lr_poly.predict(X_test_pr)\n",
    "y_hat_poly[0:5]"
   ]
  },
  {
   "cell_type": "code",
   "execution_count": 30,
   "metadata": {},
   "outputs": [
    {
     "name": "stdout",
     "output_type": "stream",
     "text": [
      "R_Square Score: 0.7763\n"
     ]
    }
   ],
   "source": [
    "print(\"R_Square Score: \" +\"{:.4}\".format(r2_score(y_test, y_hat_poly)))"
   ]
  },
  {
   "cell_type": "markdown",
   "metadata": {},
   "source": [
    "### MAE, MSE and RMSE for Non-Linear Regression model"
   ]
  },
  {
   "cell_type": "code",
   "execution_count": 31,
   "metadata": {},
   "outputs": [
    {
     "name": "stdout",
     "output_type": "stream",
     "text": [
      "Mean Absolute Error: 1.124\n",
      "Mean Squared Error: 2.511\n",
      "RMSE: 1.585\n"
     ]
    }
   ],
   "source": [
    "print(\"Mean Absolute Error: \" +\"{:.4}\".format(mean_absolute_error(y_test, y_hat_poly)))\n",
    "print(\"Mean Squared Error: \" +\"{:.4}\".format(mean_squared_error(y_test, y_hat_poly)))\n",
    "print(\"RMSE: \" +\"{:.4}\".format(np.sqrt(mean_squared_error(y_test, y_hat_poly))))"
   ]
  },
  {
   "cell_type": "markdown",
   "metadata": {},
   "source": [
    "### Define a function to plot the Non-Linear Regression line"
   ]
  },
  {
   "cell_type": "code",
   "execution_count": 32,
   "metadata": {},
   "outputs": [],
   "source": [
    "def PollyPlot(xtrain, xtest, y_train, y_test, lr,poly_transform):\n",
    "    width = 12\n",
    "    height = 10\n",
    "    plt.figure(figsize=(width, height))\n",
    "    \n",
    "    \n",
    "    #training data \n",
    "    #testing data \n",
    "    # lr:  linear regression object \n",
    "    #poly_transform:  polynomial transformation object \n",
    " \n",
    "    xmax=max([xtrain.values.max(), xtest.values.max()])\n",
    "\n",
    "    xmin=min([xtrain.values.min(), xtest.values.min()])\n",
    "\n",
    "    x=np.arange(xmin, xmax, 0.1)\n",
    "\n",
    "\n",
    "    plt.plot(xtrain, y_train, 'ro', label='Training Data')\n",
    "    plt.plot(xtest, y_test, 'go', label='Test Data')\n",
    "    plt.plot(x, lr.predict(poly_transform.fit_transform(x.reshape(-1, 1))), label='Predicted Function')\n",
    "    \n",
    "    plt.ylabel('Price')\n",
    "    plt.legend()"
   ]
  },
  {
   "cell_type": "code",
   "execution_count": 33,
   "metadata": {},
   "outputs": [],
   "source": [
    "X_test = pd.DataFrame(X_test)\n",
    "X_train = pd.DataFrame(X_train)\n",
    "y_test = pd.DataFrame(y_test)\n",
    "y_train = pd.DataFrame(y_train)"
   ]
  },
  {
   "cell_type": "markdown",
   "metadata": {},
   "source": [
    "### Visualization"
   ]
  },
  {
   "cell_type": "code",
   "execution_count": 34,
   "metadata": {},
   "outputs": [
    {
     "data": {
      "image/png": "[encoded data removed]",
      "text/plain": [
       "<Figure size 864x720 with 1 Axes>"
      ]
     },
     "metadata": {
      "needs_background": "light"
     },
     "output_type": "display_data"
    }
   ],
   "source": [
    "PollyPlot(X_train, X_test, y_train, y_test, lr_poly,pr)"
   ]
  },
  {
   "cell_type": "code",
   "execution_count": 35,
   "metadata": {},
   "outputs": [
    {
     "name": "stdout",
     "output_type": "stream",
     "text": [
      "(1000, 1)\n",
      "(1000, 1)\n"
     ]
    }
   ],
   "source": [
    "X = df2[[\"Salnty\"]]\n",
    "y = df2[[\"T_degC\"]]\n",
    "print(X.shape)\n",
    "print(y.shape)"
   ]
  },
  {
   "cell_type": "code",
   "execution_count": 36,
   "metadata": {},
   "outputs": [
    {
     "name": "stdout",
     "output_type": "stream",
     "text": [
      "Train set: (800, 1) (800, 1)\n",
      "Test set: (200, 1) (200, 1)\n"
     ]
    }
   ],
   "source": [
    "from sklearn.model_selection import train_test_split\n",
    "X_train, X_test, y_train, y_test = train_test_split( X, y, test_size = 0.2, random_state = 42)\n",
    "print ('Train set:', X_train.shape,  y_train.shape)\n",
    "print ('Test set:', X_test.shape,  y_test.shape)"
   ]
  },
  {
   "cell_type": "markdown",
   "metadata": {},
   "source": [
    "### Create a Pipeline to streamline the entire process"
   ]
  },
  {
   "cell_type": "code",
   "execution_count": 37,
   "metadata": {},
   "outputs": [],
   "source": [
    "Operations =[('scale',StandardScaler()), ('polynomial', PolynomialFeatures()), ('linear',LinearRegression())]"
   ]
  },
  {
   "cell_type": "code",
   "execution_count": 38,
   "metadata": {},
   "outputs": [],
   "source": [
    "pipe = Pipeline(Operations)\n",
    "pipe.fit(X_train,y_train)\n",
    "y_hat_pipe = pipe.predict(X_test)\n",
    "\n"
   ]
  },
  {
   "cell_type": "markdown",
   "metadata": {},
   "source": [
    "### Display the parameters for the pipeline"
   ]
  },
  {
   "cell_type": "code",
   "execution_count": 39,
   "metadata": {},
   "outputs": [
    {
     "data": {
      "text/plain": [
       "['linear',\n",
       " 'linear__copy_X',\n",
       " 'linear__fit_intercept',\n",
       " 'linear__n_jobs',\n",
       " 'linear__normalize',\n",
       " 'memory',\n",
       " 'polynomial',\n",
       " 'polynomial__degree',\n",
       " 'polynomial__include_bias',\n",
       " 'polynomial__interaction_only',\n",
       " 'scale',\n",
       " 'scale__copy',\n",
       " 'scale__with_mean',\n",
       " 'scale__with_std',\n",
       " 'steps']"
      ]
     },
     "execution_count": 39,
     "metadata": {},
     "output_type": "execute_result"
    }
   ],
   "source": [
    "sorted(pipe.get_params().keys())"
   ]
  },
  {
   "cell_type": "markdown",
   "metadata": {},
   "source": [
    "### GridSearch CV using 10 folds"
   ]
  },
  {
   "cell_type": "code",
   "execution_count": 40,
   "metadata": {},
   "outputs": [
    {
     "data": {
      "text/plain": [
       "GridSearchCV(cv=10, error_score='raise-deprecating',\n",
       "       estimator=Pipeline(memory=None,\n",
       "     steps=[('scale', StandardScaler(copy=True, with_mean=True, with_std=True)), ('polynomial', PolynomialFeatures(degree=2, include_bias=True, interaction_only=False)), ('linear', LinearRegression(copy_X=True, fit_intercept=True, n_jobs=None,\n",
       "         normalize=False))]),\n",
       "       fit_params=None, iid='warn', n_jobs=-1,\n",
       "       param_grid={'polynomial__degree': array([0, 1, 2, 3, 4])},\n",
       "       pre_dispatch='2*n_jobs', refit=True, return_train_score='warn',\n",
       "       scoring=None, verbose=0)"
      ]
     },
     "execution_count": 40,
     "metadata": {},
     "output_type": "execute_result"
    }
   ],
   "source": [
    "parameters = {'polynomial__degree': np.arange(5)}\n",
    "\n",
    "pipe_grid = GridSearchCV(pipe, param_grid = parameters, cv=10,n_jobs = -1)\n",
    "pipe_grid.fit(X_train,y_train)"
   ]
  },
  {
   "cell_type": "markdown",
   "metadata": {},
   "source": [
    "### Obtain the best parameters"
   ]
  },
  {
   "cell_type": "code",
   "execution_count": 41,
   "metadata": {},
   "outputs": [
    {
     "name": "stdout",
     "output_type": "stream",
     "text": [
      "{'polynomial__degree': 3}\n"
     ]
    }
   ],
   "source": [
    "print(pipe_grid.best_params_)"
   ]
  },
  {
   "cell_type": "markdown",
   "metadata": {},
   "source": [
    "### Cross Validation Score"
   ]
  },
  {
   "cell_type": "code",
   "execution_count": 42,
   "metadata": {},
   "outputs": [],
   "source": [
    "Rcross = cross_val_score(pipe, X, y, cv=10)"
   ]
  },
  {
   "cell_type": "code",
   "execution_count": 43,
   "metadata": {},
   "outputs": [
    {
     "name": "stdout",
     "output_type": "stream",
     "text": [
      "The mean of the folds are 0.7411360367243345 and the standard deviation is 0.15632166215805596\n"
     ]
    }
   ],
   "source": [
    "print(\"The mean of the folds are\", Rcross.mean(), \"and the standard deviation is\" , Rcross.std())"
   ]
  },
  {
   "cell_type": "code",
   "execution_count": 44,
   "metadata": {},
   "outputs": [
    {
     "data": {
      "text/plain": [
       "array([1.65323064, 1.40905334, 1.48620657, 1.01784319, 0.62977105,\n",
       "       2.70299074, 5.71261877, 1.61551808, 6.90181317, 4.64129707])"
      ]
     },
     "execution_count": 44,
     "metadata": {},
     "output_type": "execute_result"
    }
   ],
   "source": [
    "-1 * cross_val_score(pipe,X, y,cv=10,scoring='neg_mean_squared_error')"
   ]
  },
  {
   "cell_type": "markdown",
   "metadata": {},
   "source": [
    "### Redefine the pipeline with best parameters"
   ]
  },
  {
   "cell_type": "code",
   "execution_count": 45,
   "metadata": {},
   "outputs": [],
   "source": [
    "Operations =[('scale',StandardScaler()), ('polynomial', PolynomialFeatures(degree=3)), ('linear',LinearRegression())]"
   ]
  },
  {
   "cell_type": "code",
   "execution_count": 46,
   "metadata": {},
   "outputs": [],
   "source": [
    "pipe = Pipeline(Operations)\n",
    "pipe.fit(X_train,y_train)\n",
    "y_hat_pipe = pipe.predict(X_test)"
   ]
  },
  {
   "cell_type": "markdown",
   "metadata": {},
   "source": [
    "### Display the metrics"
   ]
  },
  {
   "cell_type": "code",
   "execution_count": 47,
   "metadata": {},
   "outputs": [
    {
     "name": "stdout",
     "output_type": "stream",
     "text": [
      "R_Square Score: 0.778\n"
     ]
    }
   ],
   "source": [
    "print(\"R_Square Score: \" +\"{:.4}\".format(r2_score(y_test, y_hat_pipe)))"
   ]
  },
  {
   "cell_type": "markdown",
   "metadata": {},
   "source": [
    "### MAE, MSE and RMSE for Pipeline"
   ]
  },
  {
   "cell_type": "code",
   "execution_count": 48,
   "metadata": {},
   "outputs": [
    {
     "name": "stdout",
     "output_type": "stream",
     "text": [
      "Mean Absolute Error: 1.124\n",
      "Mean Squared Error: 2.492\n",
      "RMSE: 1.578\n"
     ]
    }
   ],
   "source": [
    "print(\"Mean Absolute Error: \" +\"{:.4}\".format(mean_absolute_error(y_test, y_hat_pipe)))\n",
    "print(\"Mean Squared Error: \" +\"{:.4}\".format(mean_squared_error(y_test, y_hat_pipe)))\n",
    "print(\"RMSE: \" +\"{:.4}\".format(np.sqrt(mean_squared_error(y_test, y_hat_pipe))))"
   ]
  },
  {
   "cell_type": "markdown",
   "metadata": {},
   "source": [
    "### Display the correlations"
   ]
  },
  {
   "cell_type": "code",
   "execution_count": 49,
   "metadata": {},
   "outputs": [
    {
     "data": {
      "text/html": [
       "<div>\n",
       "<style scoped>\n",
       "    .dataframe tbody tr th:only-of-type {\n",
       "        vertical-align: middle;\n",
       "    }\n",
       "\n",
       "    .dataframe tbody tr th {\n",
       "        vertical-align: top;\n",
       "    }\n",
       "\n",
       "    .dataframe thead th {\n",
       "        text-align: right;\n",
       "    }\n",
       "</style>\n",
       "<table border=\"1\" class=\"dataframe\">\n",
       "  <thead>\n",
       "    <tr style=\"text-align: right;\">\n",
       "      <th></th>\n",
       "      <th>Cst_Cnt</th>\n",
       "      <th>Btl_Cnt</th>\n",
       "      <th>Depthm</th>\n",
       "      <th>T_degC</th>\n",
       "      <th>Salnty</th>\n",
       "      <th>STheta</th>\n",
       "      <th>RecInd</th>\n",
       "      <th>T_prec</th>\n",
       "      <th>S_prec</th>\n",
       "      <th>NH3q</th>\n",
       "      <th>...</th>\n",
       "      <th>DarkAq</th>\n",
       "      <th>MeanAq</th>\n",
       "      <th>R_Depth</th>\n",
       "      <th>R_TEMP</th>\n",
       "      <th>R_POTEMP</th>\n",
       "      <th>R_SALINITY</th>\n",
       "      <th>R_SIGMA</th>\n",
       "      <th>R_SVA</th>\n",
       "      <th>R_DYNHT</th>\n",
       "      <th>R_PRES</th>\n",
       "    </tr>\n",
       "  </thead>\n",
       "  <tbody>\n",
       "    <tr>\n",
       "      <th>Cst_Cnt</th>\n",
       "      <td>1.000000</td>\n",
       "      <td>0.999404</td>\n",
       "      <td>-0.020723</td>\n",
       "      <td>0.169357</td>\n",
       "      <td>0.112236</td>\n",
       "      <td>-0.069159</td>\n",
       "      <td>-0.004892</td>\n",
       "      <td>0.001412</td>\n",
       "      <td>-0.023432</td>\n",
       "      <td>NaN</td>\n",
       "      <td>...</td>\n",
       "      <td>NaN</td>\n",
       "      <td>NaN</td>\n",
       "      <td>-0.020723</td>\n",
       "      <td>0.169357</td>\n",
       "      <td>0.200152</td>\n",
       "      <td>0.112236</td>\n",
       "      <td>-0.072459</td>\n",
       "      <td>0.075238</td>\n",
       "      <td>-0.045360</td>\n",
       "      <td>-0.020921</td>\n",
       "    </tr>\n",
       "    <tr>\n",
       "      <th>Btl_Cnt</th>\n",
       "      <td>0.999404</td>\n",
       "      <td>1.000000</td>\n",
       "      <td>0.008005</td>\n",
       "      <td>0.139931</td>\n",
       "      <td>0.139113</td>\n",
       "      <td>-0.040383</td>\n",
       "      <td>0.001056</td>\n",
       "      <td>0.009965</td>\n",
       "      <td>-0.018346</td>\n",
       "      <td>NaN</td>\n",
       "      <td>...</td>\n",
       "      <td>NaN</td>\n",
       "      <td>NaN</td>\n",
       "      <td>0.008005</td>\n",
       "      <td>0.139931</td>\n",
       "      <td>0.171771</td>\n",
       "      <td>0.139113</td>\n",
       "      <td>-0.044031</td>\n",
       "      <td>0.046911</td>\n",
       "      <td>-0.015906</td>\n",
       "      <td>0.007798</td>\n",
       "    </tr>\n",
       "    <tr>\n",
       "      <th>Depthm</th>\n",
       "      <td>-0.020723</td>\n",
       "      <td>0.008005</td>\n",
       "      <td>1.000000</td>\n",
       "      <td>-0.888867</td>\n",
       "      <td>0.790111</td>\n",
       "      <td>0.832737</td>\n",
       "      <td>0.164855</td>\n",
       "      <td>0.158206</td>\n",
       "      <td>0.129543</td>\n",
       "      <td>NaN</td>\n",
       "      <td>...</td>\n",
       "      <td>NaN</td>\n",
       "      <td>NaN</td>\n",
       "      <td>1.000000</td>\n",
       "      <td>-0.888867</td>\n",
       "      <td>-0.837887</td>\n",
       "      <td>0.790111</td>\n",
       "      <td>0.820206</td>\n",
       "      <td>-0.815527</td>\n",
       "      <td>0.921462</td>\n",
       "      <td>0.999999</td>\n",
       "    </tr>\n",
       "    <tr>\n",
       "      <th>T_degC</th>\n",
       "      <td>0.169357</td>\n",
       "      <td>0.139931</td>\n",
       "      <td>-0.888867</td>\n",
       "      <td>1.000000</td>\n",
       "      <td>-0.830333</td>\n",
       "      <td>-0.949300</td>\n",
       "      <td>-0.174082</td>\n",
       "      <td>-0.206060</td>\n",
       "      <td>-0.147152</td>\n",
       "      <td>NaN</td>\n",
       "      <td>...</td>\n",
       "      <td>NaN</td>\n",
       "      <td>NaN</td>\n",
       "      <td>-0.888867</td>\n",
       "      <td>1.000000</td>\n",
       "      <td>0.962748</td>\n",
       "      <td>-0.830333</td>\n",
       "      <td>-0.932000</td>\n",
       "      <td>0.931644</td>\n",
       "      <td>-0.897630</td>\n",
       "      <td>-0.888607</td>\n",
       "    </tr>\n",
       "    <tr>\n",
       "      <th>Salnty</th>\n",
       "      <td>0.112236</td>\n",
       "      <td>0.139113</td>\n",
       "      <td>0.790111</td>\n",
       "      <td>-0.830333</td>\n",
       "      <td>1.000000</td>\n",
       "      <td>0.945493</td>\n",
       "      <td>0.147737</td>\n",
       "      <td>0.200632</td>\n",
       "      <td>0.149827</td>\n",
       "      <td>NaN</td>\n",
       "      <td>...</td>\n",
       "      <td>NaN</td>\n",
       "      <td>NaN</td>\n",
       "      <td>0.790111</td>\n",
       "      <td>-0.830333</td>\n",
       "      <td>-0.849965</td>\n",
       "      <td>1.000000</td>\n",
       "      <td>0.941163</td>\n",
       "      <td>-0.940608</td>\n",
       "      <td>0.871719</td>\n",
       "      <td>0.789659</td>\n",
       "    </tr>\n",
       "    <tr>\n",
       "      <th>STheta</th>\n",
       "      <td>-0.069159</td>\n",
       "      <td>-0.040383</td>\n",
       "      <td>0.832737</td>\n",
       "      <td>-0.949300</td>\n",
       "      <td>0.945493</td>\n",
       "      <td>1.000000</td>\n",
       "      <td>0.154751</td>\n",
       "      <td>0.218682</td>\n",
       "      <td>0.156940</td>\n",
       "      <td>NaN</td>\n",
       "      <td>...</td>\n",
       "      <td>NaN</td>\n",
       "      <td>NaN</td>\n",
       "      <td>0.832737</td>\n",
       "      <td>-0.949300</td>\n",
       "      <td>-0.960123</td>\n",
       "      <td>0.945493</td>\n",
       "      <td>0.986250</td>\n",
       "      <td>-0.986170</td>\n",
       "      <td>0.917134</td>\n",
       "      <td>0.832283</td>\n",
       "    </tr>\n",
       "    <tr>\n",
       "      <th>RecInd</th>\n",
       "      <td>-0.004892</td>\n",
       "      <td>0.001056</td>\n",
       "      <td>0.164855</td>\n",
       "      <td>-0.174082</td>\n",
       "      <td>0.147737</td>\n",
       "      <td>0.154751</td>\n",
       "      <td>1.000000</td>\n",
       "      <td>0.206303</td>\n",
       "      <td>0.986051</td>\n",
       "      <td>NaN</td>\n",
       "      <td>...</td>\n",
       "      <td>NaN</td>\n",
       "      <td>NaN</td>\n",
       "      <td>0.164855</td>\n",
       "      <td>-0.174082</td>\n",
       "      <td>-0.160666</td>\n",
       "      <td>0.147737</td>\n",
       "      <td>0.160651</td>\n",
       "      <td>-0.159909</td>\n",
       "      <td>0.172811</td>\n",
       "      <td>0.164740</td>\n",
       "    </tr>\n",
       "    <tr>\n",
       "      <th>T_prec</th>\n",
       "      <td>0.001412</td>\n",
       "      <td>0.009965</td>\n",
       "      <td>0.158206</td>\n",
       "      <td>-0.206060</td>\n",
       "      <td>0.200632</td>\n",
       "      <td>0.218682</td>\n",
       "      <td>0.206303</td>\n",
       "      <td>1.000000</td>\n",
       "      <td>0.208012</td>\n",
       "      <td>NaN</td>\n",
       "      <td>...</td>\n",
       "      <td>NaN</td>\n",
       "      <td>NaN</td>\n",
       "      <td>0.158206</td>\n",
       "      <td>-0.206060</td>\n",
       "      <td>-0.201981</td>\n",
       "      <td>0.200632</td>\n",
       "      <td>0.214798</td>\n",
       "      <td>-0.213926</td>\n",
       "      <td>0.204373</td>\n",
       "      <td>0.157950</td>\n",
       "    </tr>\n",
       "    <tr>\n",
       "      <th>S_prec</th>\n",
       "      <td>-0.023432</td>\n",
       "      <td>-0.018346</td>\n",
       "      <td>0.129543</td>\n",
       "      <td>-0.147152</td>\n",
       "      <td>0.149827</td>\n",
       "      <td>0.156940</td>\n",
       "      <td>0.986051</td>\n",
       "      <td>0.208012</td>\n",
       "      <td>1.000000</td>\n",
       "      <td>NaN</td>\n",
       "      <td>...</td>\n",
       "      <td>NaN</td>\n",
       "      <td>NaN</td>\n",
       "      <td>0.129543</td>\n",
       "      <td>-0.147152</td>\n",
       "      <td>-0.156928</td>\n",
       "      <td>0.149827</td>\n",
       "      <td>0.162923</td>\n",
       "      <td>-0.162171</td>\n",
       "      <td>0.166937</td>\n",
       "      <td>0.129369</td>\n",
       "    </tr>\n",
       "    <tr>\n",
       "      <th>NH3q</th>\n",
       "      <td>NaN</td>\n",
       "      <td>NaN</td>\n",
       "      <td>NaN</td>\n",
       "      <td>NaN</td>\n",
       "      <td>NaN</td>\n",
       "      <td>NaN</td>\n",
       "      <td>NaN</td>\n",
       "      <td>NaN</td>\n",
       "      <td>NaN</td>\n",
       "      <td>NaN</td>\n",
       "      <td>...</td>\n",
       "      <td>NaN</td>\n",
       "      <td>NaN</td>\n",
       "      <td>NaN</td>\n",
       "      <td>NaN</td>\n",
       "      <td>NaN</td>\n",
       "      <td>NaN</td>\n",
       "      <td>NaN</td>\n",
       "      <td>NaN</td>\n",
       "      <td>NaN</td>\n",
       "      <td>NaN</td>\n",
       "    </tr>\n",
       "    <tr>\n",
       "      <th>C14A1q</th>\n",
       "      <td>NaN</td>\n",
       "      <td>NaN</td>\n",
       "      <td>NaN</td>\n",
       "      <td>NaN</td>\n",
       "      <td>NaN</td>\n",
       "      <td>NaN</td>\n",
       "      <td>NaN</td>\n",
       "      <td>NaN</td>\n",
       "      <td>NaN</td>\n",
       "      <td>NaN</td>\n",
       "      <td>...</td>\n",
       "      <td>NaN</td>\n",
       "      <td>NaN</td>\n",
       "      <td>NaN</td>\n",
       "      <td>NaN</td>\n",
       "      <td>NaN</td>\n",
       "      <td>NaN</td>\n",
       "      <td>NaN</td>\n",
       "      <td>NaN</td>\n",
       "      <td>NaN</td>\n",
       "      <td>NaN</td>\n",
       "    </tr>\n",
       "    <tr>\n",
       "      <th>C14A2q</th>\n",
       "      <td>NaN</td>\n",
       "      <td>NaN</td>\n",
       "      <td>NaN</td>\n",
       "      <td>NaN</td>\n",
       "      <td>NaN</td>\n",
       "      <td>NaN</td>\n",
       "      <td>NaN</td>\n",
       "      <td>NaN</td>\n",
       "      <td>NaN</td>\n",
       "      <td>NaN</td>\n",
       "      <td>...</td>\n",
       "      <td>NaN</td>\n",
       "      <td>NaN</td>\n",
       "      <td>NaN</td>\n",
       "      <td>NaN</td>\n",
       "      <td>NaN</td>\n",
       "      <td>NaN</td>\n",
       "      <td>NaN</td>\n",
       "      <td>NaN</td>\n",
       "      <td>NaN</td>\n",
       "      <td>NaN</td>\n",
       "    </tr>\n",
       "    <tr>\n",
       "      <th>DarkAq</th>\n",
       "      <td>NaN</td>\n",
       "      <td>NaN</td>\n",
       "      <td>NaN</td>\n",
       "      <td>NaN</td>\n",
       "      <td>NaN</td>\n",
       "      <td>NaN</td>\n",
       "      <td>NaN</td>\n",
       "      <td>NaN</td>\n",
       "      <td>NaN</td>\n",
       "      <td>NaN</td>\n",
       "      <td>...</td>\n",
       "      <td>NaN</td>\n",
       "      <td>NaN</td>\n",
       "      <td>NaN</td>\n",
       "      <td>NaN</td>\n",
       "      <td>NaN</td>\n",
       "      <td>NaN</td>\n",
       "      <td>NaN</td>\n",
       "      <td>NaN</td>\n",
       "      <td>NaN</td>\n",
       "      <td>NaN</td>\n",
       "    </tr>\n",
       "    <tr>\n",
       "      <th>MeanAq</th>\n",
       "      <td>NaN</td>\n",
       "      <td>NaN</td>\n",
       "      <td>NaN</td>\n",
       "      <td>NaN</td>\n",
       "      <td>NaN</td>\n",
       "      <td>NaN</td>\n",
       "      <td>NaN</td>\n",
       "      <td>NaN</td>\n",
       "      <td>NaN</td>\n",
       "      <td>NaN</td>\n",
       "      <td>...</td>\n",
       "      <td>NaN</td>\n",
       "      <td>NaN</td>\n",
       "      <td>NaN</td>\n",
       "      <td>NaN</td>\n",
       "      <td>NaN</td>\n",
       "      <td>NaN</td>\n",
       "      <td>NaN</td>\n",
       "      <td>NaN</td>\n",
       "      <td>NaN</td>\n",
       "      <td>NaN</td>\n",
       "    </tr>\n",
       "    <tr>\n",
       "      <th>R_Depth</th>\n",
       "      <td>-0.020723</td>\n",
       "      <td>0.008005</td>\n",
       "      <td>1.000000</td>\n",
       "      <td>-0.888867</td>\n",
       "      <td>0.790111</td>\n",
       "      <td>0.832737</td>\n",
       "      <td>0.164855</td>\n",
       "      <td>0.158206</td>\n",
       "      <td>0.129543</td>\n",
       "      <td>NaN</td>\n",
       "      <td>...</td>\n",
       "      <td>NaN</td>\n",
       "      <td>NaN</td>\n",
       "      <td>1.000000</td>\n",
       "      <td>-0.888867</td>\n",
       "      <td>-0.837887</td>\n",
       "      <td>0.790111</td>\n",
       "      <td>0.820206</td>\n",
       "      <td>-0.815527</td>\n",
       "      <td>0.921462</td>\n",
       "      <td>0.999999</td>\n",
       "    </tr>\n",
       "    <tr>\n",
       "      <th>R_TEMP</th>\n",
       "      <td>0.169357</td>\n",
       "      <td>0.139931</td>\n",
       "      <td>-0.888867</td>\n",
       "      <td>1.000000</td>\n",
       "      <td>-0.830333</td>\n",
       "      <td>-0.949300</td>\n",
       "      <td>-0.174082</td>\n",
       "      <td>-0.206060</td>\n",
       "      <td>-0.147152</td>\n",
       "      <td>NaN</td>\n",
       "      <td>...</td>\n",
       "      <td>NaN</td>\n",
       "      <td>NaN</td>\n",
       "      <td>-0.888867</td>\n",
       "      <td>1.000000</td>\n",
       "      <td>0.962748</td>\n",
       "      <td>-0.830333</td>\n",
       "      <td>-0.932000</td>\n",
       "      <td>0.931644</td>\n",
       "      <td>-0.897630</td>\n",
       "      <td>-0.888607</td>\n",
       "    </tr>\n",
       "    <tr>\n",
       "      <th>R_POTEMP</th>\n",
       "      <td>0.200152</td>\n",
       "      <td>0.171771</td>\n",
       "      <td>-0.837887</td>\n",
       "      <td>0.962748</td>\n",
       "      <td>-0.849965</td>\n",
       "      <td>-0.960123</td>\n",
       "      <td>-0.160666</td>\n",
       "      <td>-0.201981</td>\n",
       "      <td>-0.156928</td>\n",
       "      <td>NaN</td>\n",
       "      <td>...</td>\n",
       "      <td>NaN</td>\n",
       "      <td>NaN</td>\n",
       "      <td>-0.837887</td>\n",
       "      <td>0.962748</td>\n",
       "      <td>1.000000</td>\n",
       "      <td>-0.849965</td>\n",
       "      <td>-0.968224</td>\n",
       "      <td>0.967819</td>\n",
       "      <td>-0.924794</td>\n",
       "      <td>-0.837462</td>\n",
       "    </tr>\n",
       "    <tr>\n",
       "      <th>R_SALINITY</th>\n",
       "      <td>0.112236</td>\n",
       "      <td>0.139113</td>\n",
       "      <td>0.790111</td>\n",
       "      <td>-0.830333</td>\n",
       "      <td>1.000000</td>\n",
       "      <td>0.945493</td>\n",
       "      <td>0.147737</td>\n",
       "      <td>0.200632</td>\n",
       "      <td>0.149827</td>\n",
       "      <td>NaN</td>\n",
       "      <td>...</td>\n",
       "      <td>NaN</td>\n",
       "      <td>NaN</td>\n",
       "      <td>0.790111</td>\n",
       "      <td>-0.830333</td>\n",
       "      <td>-0.849965</td>\n",
       "      <td>1.000000</td>\n",
       "      <td>0.941163</td>\n",
       "      <td>-0.940608</td>\n",
       "      <td>0.871719</td>\n",
       "      <td>0.789659</td>\n",
       "    </tr>\n",
       "    <tr>\n",
       "      <th>R_SIGMA</th>\n",
       "      <td>-0.072459</td>\n",
       "      <td>-0.044031</td>\n",
       "      <td>0.820206</td>\n",
       "      <td>-0.932000</td>\n",
       "      <td>0.941163</td>\n",
       "      <td>0.986250</td>\n",
       "      <td>0.160651</td>\n",
       "      <td>0.214798</td>\n",
       "      <td>0.162923</td>\n",
       "      <td>NaN</td>\n",
       "      <td>...</td>\n",
       "      <td>NaN</td>\n",
       "      <td>NaN</td>\n",
       "      <td>0.820206</td>\n",
       "      <td>-0.932000</td>\n",
       "      <td>-0.968224</td>\n",
       "      <td>0.941163</td>\n",
       "      <td>1.000000</td>\n",
       "      <td>-0.999910</td>\n",
       "      <td>0.917750</td>\n",
       "      <td>0.819732</td>\n",
       "    </tr>\n",
       "    <tr>\n",
       "      <th>R_SVA</th>\n",
       "      <td>0.075238</td>\n",
       "      <td>0.046911</td>\n",
       "      <td>-0.815527</td>\n",
       "      <td>0.931644</td>\n",
       "      <td>-0.940608</td>\n",
       "      <td>-0.986170</td>\n",
       "      <td>-0.159909</td>\n",
       "      <td>-0.213926</td>\n",
       "      <td>-0.162171</td>\n",
       "      <td>NaN</td>\n",
       "      <td>...</td>\n",
       "      <td>NaN</td>\n",
       "      <td>NaN</td>\n",
       "      <td>-0.815527</td>\n",
       "      <td>0.931644</td>\n",
       "      <td>0.967819</td>\n",
       "      <td>-0.940608</td>\n",
       "      <td>-0.999910</td>\n",
       "      <td>1.000000</td>\n",
       "      <td>-0.913347</td>\n",
       "      <td>-0.815056</td>\n",
       "    </tr>\n",
       "    <tr>\n",
       "      <th>R_DYNHT</th>\n",
       "      <td>-0.045360</td>\n",
       "      <td>-0.015906</td>\n",
       "      <td>0.921462</td>\n",
       "      <td>-0.897630</td>\n",
       "      <td>0.871719</td>\n",
       "      <td>0.917134</td>\n",
       "      <td>0.172811</td>\n",
       "      <td>0.204373</td>\n",
       "      <td>0.166937</td>\n",
       "      <td>NaN</td>\n",
       "      <td>...</td>\n",
       "      <td>NaN</td>\n",
       "      <td>NaN</td>\n",
       "      <td>0.921462</td>\n",
       "      <td>-0.897630</td>\n",
       "      <td>-0.924794</td>\n",
       "      <td>0.871719</td>\n",
       "      <td>0.917750</td>\n",
       "      <td>-0.913347</td>\n",
       "      <td>1.000000</td>\n",
       "      <td>0.921039</td>\n",
       "    </tr>\n",
       "    <tr>\n",
       "      <th>R_PRES</th>\n",
       "      <td>-0.020921</td>\n",
       "      <td>0.007798</td>\n",
       "      <td>0.999999</td>\n",
       "      <td>-0.888607</td>\n",
       "      <td>0.789659</td>\n",
       "      <td>0.832283</td>\n",
       "      <td>0.164740</td>\n",
       "      <td>0.157950</td>\n",
       "      <td>0.129369</td>\n",
       "      <td>NaN</td>\n",
       "      <td>...</td>\n",
       "      <td>NaN</td>\n",
       "      <td>NaN</td>\n",
       "      <td>0.999999</td>\n",
       "      <td>-0.888607</td>\n",
       "      <td>-0.837462</td>\n",
       "      <td>0.789659</td>\n",
       "      <td>0.819732</td>\n",
       "      <td>-0.815056</td>\n",
       "      <td>0.921039</td>\n",
       "      <td>1.000000</td>\n",
       "    </tr>\n",
       "  </tbody>\n",
       "</table>\n",
       "<p>22 rows × 22 columns</p>\n",
       "</div>"
      ],
      "text/plain": [
       "             Cst_Cnt   Btl_Cnt    Depthm    T_degC    Salnty    STheta  \\\n",
       "Cst_Cnt     1.000000  0.999404 -0.020723  0.169357  0.112236 -0.069159   \n",
       "Btl_Cnt     0.999404  1.000000  0.008005  0.139931  0.139113 -0.040383   \n",
       "Depthm     -0.020723  0.008005  1.000000 -0.888867  0.790111  0.832737   \n",
       "T_degC      0.169357  0.139931 -0.888867  1.000000 -0.830333 -0.949300   \n",
       "Salnty      0.112236  0.139113  0.790111 -0.830333  1.000000  0.945493   \n",
       "STheta     -0.069159 -0.040383  0.832737 -0.949300  0.945493  1.000000   \n",
       "RecInd     -0.004892  0.001056  0.164855 -0.174082  0.147737  0.154751   \n",
       "T_prec      0.001412  0.009965  0.158206 -0.206060  0.200632  0.218682   \n",
       "S_prec     -0.023432 -0.018346  0.129543 -0.147152  0.149827  0.156940   \n",
       "NH3q             NaN       NaN       NaN       NaN       NaN       NaN   \n",
       "C14A1q           NaN       NaN       NaN       NaN       NaN       NaN   \n",
       "C14A2q           NaN       NaN       NaN       NaN       NaN       NaN   \n",
       "DarkAq           NaN       NaN       NaN       NaN       NaN       NaN   \n",
       "MeanAq           NaN       NaN       NaN       NaN       NaN       NaN   \n",
       "R_Depth    -0.020723  0.008005  1.000000 -0.888867  0.790111  0.832737   \n",
       "R_TEMP      0.169357  0.139931 -0.888867  1.000000 -0.830333 -0.949300   \n",
       "R_POTEMP    0.200152  0.171771 -0.837887  0.962748 -0.849965 -0.960123   \n",
       "R_SALINITY  0.112236  0.139113  0.790111 -0.830333  1.000000  0.945493   \n",
       "R_SIGMA    -0.072459 -0.044031  0.820206 -0.932000  0.941163  0.986250   \n",
       "R_SVA       0.075238  0.046911 -0.815527  0.931644 -0.940608 -0.986170   \n",
       "R_DYNHT    -0.045360 -0.015906  0.921462 -0.897630  0.871719  0.917134   \n",
       "R_PRES     -0.020921  0.007798  0.999999 -0.888607  0.789659  0.832283   \n",
       "\n",
       "              RecInd    T_prec    S_prec  NH3q    ...     DarkAq  MeanAq  \\\n",
       "Cst_Cnt    -0.004892  0.001412 -0.023432   NaN    ...        NaN     NaN   \n",
       "Btl_Cnt     0.001056  0.009965 -0.018346   NaN    ...        NaN     NaN   \n",
       "Depthm      0.164855  0.158206  0.129543   NaN    ...        NaN     NaN   \n",
       "T_degC     -0.174082 -0.206060 -0.147152   NaN    ...        NaN     NaN   \n",
       "Salnty      0.147737  0.200632  0.149827   NaN    ...        NaN     NaN   \n",
       "STheta      0.154751  0.218682  0.156940   NaN    ...        NaN     NaN   \n",
       "RecInd      1.000000  0.206303  0.986051   NaN    ...        NaN     NaN   \n",
       "T_prec      0.206303  1.000000  0.208012   NaN    ...        NaN     NaN   \n",
       "S_prec      0.986051  0.208012  1.000000   NaN    ...        NaN     NaN   \n",
       "NH3q             NaN       NaN       NaN   NaN    ...        NaN     NaN   \n",
       "C14A1q           NaN       NaN       NaN   NaN    ...        NaN     NaN   \n",
       "C14A2q           NaN       NaN       NaN   NaN    ...        NaN     NaN   \n",
       "DarkAq           NaN       NaN       NaN   NaN    ...        NaN     NaN   \n",
       "MeanAq           NaN       NaN       NaN   NaN    ...        NaN     NaN   \n",
       "R_Depth     0.164855  0.158206  0.129543   NaN    ...        NaN     NaN   \n",
       "R_TEMP     -0.174082 -0.206060 -0.147152   NaN    ...        NaN     NaN   \n",
       "R_POTEMP   -0.160666 -0.201981 -0.156928   NaN    ...        NaN     NaN   \n",
       "R_SALINITY  0.147737  0.200632  0.149827   NaN    ...        NaN     NaN   \n",
       "R_SIGMA     0.160651  0.214798  0.162923   NaN    ...        NaN     NaN   \n",
       "R_SVA      -0.159909 -0.213926 -0.162171   NaN    ...        NaN     NaN   \n",
       "R_DYNHT     0.172811  0.204373  0.166937   NaN    ...        NaN     NaN   \n",
       "R_PRES      0.164740  0.157950  0.129369   NaN    ...        NaN     NaN   \n",
       "\n",
       "             R_Depth    R_TEMP  R_POTEMP  R_SALINITY   R_SIGMA     R_SVA  \\\n",
       "Cst_Cnt    -0.020723  0.169357  0.200152    0.112236 -0.072459  0.075238   \n",
       "Btl_Cnt     0.008005  0.139931  0.171771    0.139113 -0.044031  0.046911   \n",
       "Depthm      1.000000 -0.888867 -0.837887    0.790111  0.820206 -0.815527   \n",
       "T_degC     -0.888867  1.000000  0.962748   -0.830333 -0.932000  0.931644   \n",
       "Salnty      0.790111 -0.830333 -0.849965    1.000000  0.941163 -0.940608   \n",
       "STheta      0.832737 -0.949300 -0.960123    0.945493  0.986250 -0.986170   \n",
       "RecInd      0.164855 -0.174082 -0.160666    0.147737  0.160651 -0.159909   \n",
       "T_prec      0.158206 -0.206060 -0.201981    0.200632  0.214798 -0.213926   \n",
       "S_prec      0.129543 -0.147152 -0.156928    0.149827  0.162923 -0.162171   \n",
       "NH3q             NaN       NaN       NaN         NaN       NaN       NaN   \n",
       "C14A1q           NaN       NaN       NaN         NaN       NaN       NaN   \n",
       "C14A2q           NaN       NaN       NaN         NaN       NaN       NaN   \n",
       "DarkAq           NaN       NaN       NaN         NaN       NaN       NaN   \n",
       "MeanAq           NaN       NaN       NaN         NaN       NaN       NaN   \n",
       "R_Depth     1.000000 -0.888867 -0.837887    0.790111  0.820206 -0.815527   \n",
       "R_TEMP     -0.888867  1.000000  0.962748   -0.830333 -0.932000  0.931644   \n",
       "R_POTEMP   -0.837887  0.962748  1.000000   -0.849965 -0.968224  0.967819   \n",
       "R_SALINITY  0.790111 -0.830333 -0.849965    1.000000  0.941163 -0.940608   \n",
       "R_SIGMA     0.820206 -0.932000 -0.968224    0.941163  1.000000 -0.999910   \n",
       "R_SVA      -0.815527  0.931644  0.967819   -0.940608 -0.999910  1.000000   \n",
       "R_DYNHT     0.921462 -0.897630 -0.924794    0.871719  0.917750 -0.913347   \n",
       "R_PRES      0.999999 -0.888607 -0.837462    0.789659  0.819732 -0.815056   \n",
       "\n",
       "             R_DYNHT    R_PRES  \n",
       "Cst_Cnt    -0.045360 -0.020921  \n",
       "Btl_Cnt    -0.015906  0.007798  \n",
       "Depthm      0.921462  0.999999  \n",
       "T_degC     -0.897630 -0.888607  \n",
       "Salnty      0.871719  0.789659  \n",
       "STheta      0.917134  0.832283  \n",
       "RecInd      0.172811  0.164740  \n",
       "T_prec      0.204373  0.157950  \n",
       "S_prec      0.166937  0.129369  \n",
       "NH3q             NaN       NaN  \n",
       "C14A1q           NaN       NaN  \n",
       "C14A2q           NaN       NaN  \n",
       "DarkAq           NaN       NaN  \n",
       "MeanAq           NaN       NaN  \n",
       "R_Depth     0.921462  0.999999  \n",
       "R_TEMP     -0.897630 -0.888607  \n",
       "R_POTEMP   -0.924794 -0.837462  \n",
       "R_SALINITY  0.871719  0.789659  \n",
       "R_SIGMA     0.917750  0.819732  \n",
       "R_SVA      -0.913347 -0.815056  \n",
       "R_DYNHT     1.000000  0.921039  \n",
       "R_PRES      0.921039  1.000000  \n",
       "\n",
       "[22 rows x 22 columns]"
      ]
     },
     "execution_count": 49,
     "metadata": {},
     "output_type": "execute_result"
    }
   ],
   "source": [
    "df2.corr()"
   ]
  },
  {
   "cell_type": "markdown",
   "metadata": {},
   "source": [
    "### Finding the features with very high correlation"
   ]
  },
  {
   "cell_type": "code",
   "execution_count": 50,
   "metadata": {},
   "outputs": [
    {
     "data": {
      "text/plain": [
       "Salnty      R_SALINITY    1.000000\n",
       "T_degC      R_TEMP        1.000000\n",
       "Depthm      R_Depth       1.000000\n",
       "            R_PRES        0.999999\n",
       "R_Depth     R_PRES        0.999999\n",
       "R_SIGMA     R_SVA         0.999910\n",
       "Cst_Cnt     Btl_Cnt       0.999404\n",
       "STheta      R_SIGMA       0.986250\n",
       "            R_SVA         0.986170\n",
       "RecInd      S_prec        0.986051\n",
       "R_POTEMP    R_SIGMA       0.968224\n",
       "            R_SVA         0.967819\n",
       "T_degC      R_POTEMP      0.962748\n",
       "R_TEMP      R_POTEMP      0.962748\n",
       "STheta      R_POTEMP      0.960123\n",
       "T_degC      STheta        0.949300\n",
       "STheta      R_TEMP        0.949300\n",
       "Salnty      STheta        0.945493\n",
       "STheta      R_SALINITY    0.945493\n",
       "R_SALINITY  R_SIGMA       0.941163\n",
       "Salnty      R_SIGMA       0.941163\n",
       "            R_SVA         0.940608\n",
       "R_SALINITY  R_SVA         0.940608\n",
       "R_TEMP      R_SIGMA       0.932000\n",
       "T_degC      R_SIGMA       0.932000\n",
       "            R_SVA         0.931644\n",
       "R_TEMP      R_SVA         0.931644\n",
       "R_POTEMP    R_DYNHT       0.924794\n",
       "R_Depth     R_DYNHT       0.921462\n",
       "Depthm      R_DYNHT       0.921462\n",
       "                            ...   \n",
       "S_prec      R_TEMP        0.147152\n",
       "Btl_Cnt     T_degC        0.139931\n",
       "            R_TEMP        0.139931\n",
       "            Salnty        0.139113\n",
       "            R_SALINITY    0.139113\n",
       "Depthm      S_prec        0.129543\n",
       "S_prec      R_Depth       0.129543\n",
       "            R_PRES        0.129369\n",
       "Cst_Cnt     Salnty        0.112236\n",
       "            R_SALINITY    0.112236\n",
       "            R_SVA         0.075238\n",
       "            R_SIGMA       0.072459\n",
       "            STheta        0.069159\n",
       "Btl_Cnt     R_SVA         0.046911\n",
       "Cst_Cnt     R_DYNHT       0.045360\n",
       "Btl_Cnt     R_SIGMA       0.044031\n",
       "            STheta        0.040383\n",
       "Cst_Cnt     S_prec        0.023432\n",
       "            R_PRES        0.020921\n",
       "            Depthm        0.020723\n",
       "            R_Depth       0.020723\n",
       "Btl_Cnt     S_prec        0.018346\n",
       "            R_DYNHT       0.015906\n",
       "            T_prec        0.009965\n",
       "            R_Depth       0.008005\n",
       "            Depthm        0.008005\n",
       "            R_PRES        0.007798\n",
       "Cst_Cnt     RecInd        0.004892\n",
       "            T_prec        0.001412\n",
       "Btl_Cnt     RecInd        0.001056\n",
       "Length: 136, dtype: float64"
      ]
     },
     "execution_count": 50,
     "metadata": {},
     "output_type": "execute_result"
    }
   ],
   "source": [
    "corr_matrix = df2.corr().abs()\n",
    "\n",
    "#the matrix is symmetric so we need to extract upper triangle matrix without diagonal (k = 1)\n",
    "sol = (corr_matrix.where(np.triu(np.ones(corr_matrix.shape), k=1).astype(np.bool)).stack().sort_values(ascending=False))\n",
    "sol"
   ]
  },
  {
   "cell_type": "markdown",
   "metadata": {},
   "source": [
    "## Multiple Linear Regression"
   ]
  },
  {
   "cell_type": "markdown",
   "metadata": {},
   "source": [
    "### Seperate the features and target variable"
   ]
  },
  {
   "cell_type": "code",
   "execution_count": 51,
   "metadata": {},
   "outputs": [],
   "source": [
    "X2 = df2[[\"Salnty\",\"STheta\",\"R_SIGMA\",\"R_POTEMP\"]]\n",
    "y = df2[[\"T_degC\"]]"
   ]
  },
  {
   "cell_type": "markdown",
   "metadata": {},
   "source": [
    "### Display the shape"
   ]
  },
  {
   "cell_type": "code",
   "execution_count": 52,
   "metadata": {},
   "outputs": [
    {
     "name": "stdout",
     "output_type": "stream",
     "text": [
      "(1000, 4)\n",
      "(1000, 1)\n"
     ]
    }
   ],
   "source": [
    "print(X2.shape)\n",
    "print(y.shape)"
   ]
  },
  {
   "cell_type": "markdown",
   "metadata": {},
   "source": [
    "### Train Test Split"
   ]
  },
  {
   "cell_type": "code",
   "execution_count": 53,
   "metadata": {},
   "outputs": [
    {
     "name": "stdout",
     "output_type": "stream",
     "text": [
      "Train set: (800, 4) (800, 1)\n",
      "Test set: (200, 4) (200, 1)\n"
     ]
    }
   ],
   "source": [
    "from sklearn.model_selection import train_test_split\n",
    "X2_train, X2_test, y_train, y_test = train_test_split( X2, y, test_size = 0.2, random_state = 42)\n",
    "print ('Train set:', X2_train.shape,  y_train.shape)\n",
    "print ('Test set:', X2_test.shape,  y_test.shape)\n"
   ]
  },
  {
   "cell_type": "markdown",
   "metadata": {},
   "source": [
    "### Scale the data"
   ]
  },
  {
   "cell_type": "code",
   "execution_count": 54,
   "metadata": {},
   "outputs": [],
   "source": [
    "sdc = StandardScaler()\n",
    "X2_train = sdc.fit_transform(X2_train)\n",
    "X2_test = sdc.fit_transform(X2_test)"
   ]
  },
  {
   "cell_type": "markdown",
   "metadata": {},
   "source": [
    "### Initialize"
   ]
  },
  {
   "cell_type": "code",
   "execution_count": 55,
   "metadata": {},
   "outputs": [
    {
     "data": {
      "text/plain": [
       "LinearRegression(copy_X=True, fit_intercept=True, n_jobs=None,\n",
       "         normalize=False)"
      ]
     },
     "execution_count": 55,
     "metadata": {},
     "output_type": "execute_result"
    }
   ],
   "source": [
    "mlr = LinearRegression()\n",
    "mlr.fit(X2_train, y_train)"
   ]
  },
  {
   "cell_type": "code",
   "execution_count": 56,
   "metadata": {},
   "outputs": [
    {
     "data": {
      "text/plain": [
       "array([[ 4.52024857],\n",
       "       [12.7963639 ],\n",
       "       [11.11789603],\n",
       "       [ 8.03150582],\n",
       "       [10.85969473]])"
      ]
     },
     "execution_count": 56,
     "metadata": {},
     "output_type": "execute_result"
    }
   ],
   "source": [
    "y_hat_mlr = mlr.predict(X2_test)\n",
    "y_hat_mlr[0:5]  "
   ]
  },
  {
   "cell_type": "markdown",
   "metadata": {},
   "source": [
    "### Display the Intercepts and Coefficients"
   ]
  },
  {
   "cell_type": "code",
   "execution_count": 57,
   "metadata": {},
   "outputs": [
    {
     "data": {
      "text/plain": [
       "array([8.39930914])"
      ]
     },
     "execution_count": 57,
     "metadata": {},
     "output_type": "execute_result"
    }
   ],
   "source": [
    "mlr.intercept_"
   ]
  },
  {
   "cell_type": "code",
   "execution_count": 58,
   "metadata": {},
   "outputs": [
    {
     "data": {
      "text/plain": [
       "array([[ 0.83389047, -3.54019359,  1.60616233,  1.95664699]])"
      ]
     },
     "execution_count": 58,
     "metadata": {},
     "output_type": "execute_result"
    }
   ],
   "source": [
    "mlr.coef_"
   ]
  },
  {
   "cell_type": "markdown",
   "metadata": {},
   "source": [
    "### Metrics"
   ]
  },
  {
   "cell_type": "code",
   "execution_count": 59,
   "metadata": {},
   "outputs": [
    {
     "name": "stdout",
     "output_type": "stream",
     "text": [
      "Multiple Linear Regression Model accuracy: 93.31%\n",
      "R_Square Score: 0.9331\n"
     ]
    }
   ],
   "source": [
    "print(\"Multiple Linear Regression Model accuracy: \" +\"{:.2%}\".format(mlr.score(X2_test, y_test)))\n",
    "print(\"R_Square Score: \" +\"{:.4}\".format(r2_score(y_test, y_hat_mlr)))"
   ]
  },
  {
   "cell_type": "markdown",
   "metadata": {},
   "source": [
    "### MAE, MSE and RMSE for Multiple Linear Regression model"
   ]
  },
  {
   "cell_type": "code",
   "execution_count": 60,
   "metadata": {},
   "outputs": [
    {
     "name": "stdout",
     "output_type": "stream",
     "text": [
      "Mean Absolute Error: 0.3755\n",
      "Mean Squared Error: 0.7506\n",
      "RMSE: 0.8664\n"
     ]
    }
   ],
   "source": [
    "print(\"Mean Absolute Error: \" +\"{:.4}\".format(mean_absolute_error(y_test, y_hat_mlr)))\n",
    "print(\"Mean Squared Error: \" +\"{:.4}\".format(mean_squared_error(y_test, y_hat_mlr)))\n",
    "print(\"RMSE: \" +\"{:.4}\".format(np.sqrt(mean_squared_error(y_test, y_hat_mlr))))"
   ]
  },
  {
   "cell_type": "markdown",
   "metadata": {},
   "source": [
    "### Polynomial Features"
   ]
  },
  {
   "cell_type": "code",
   "execution_count": 61,
   "metadata": {},
   "outputs": [
    {
     "name": "stdout",
     "output_type": "stream",
     "text": [
      "(800, 15)\n",
      "(200, 15)\n"
     ]
    }
   ],
   "source": [
    "pr = PolynomialFeatures(degree=2)\n",
    "X2_train_pr = pr.fit_transform(X2_train)\n",
    "X2_test_pr = pr.fit_transform(X2_test)\n",
    "pr\n",
    "print(X2_train_pr.shape)\n",
    "print(X2_test_pr.shape)"
   ]
  },
  {
   "cell_type": "code",
   "execution_count": 62,
   "metadata": {},
   "outputs": [
    {
     "data": {
      "text/plain": [
       "LinearRegression(copy_X=True, fit_intercept=True, n_jobs=None,\n",
       "         normalize=False)"
      ]
     },
     "execution_count": 62,
     "metadata": {},
     "output_type": "execute_result"
    }
   ],
   "source": [
    "mlr_poly = LinearRegression()\n",
    "mlr_poly.fit(X2_train_pr, y_train)"
   ]
  },
  {
   "cell_type": "code",
   "execution_count": 63,
   "metadata": {},
   "outputs": [
    {
     "data": {
      "text/plain": [
       "array([[ 4.5690707 ],\n",
       "       [12.76443268],\n",
       "       [10.98101076],\n",
       "       [ 7.9668036 ],\n",
       "       [10.95331412]])"
      ]
     },
     "execution_count": 63,
     "metadata": {},
     "output_type": "execute_result"
    }
   ],
   "source": [
    "y_hat_mlr_poly = mlr_poly.predict(X2_test_pr)\n",
    "y_hat_mlr_poly[0:5]"
   ]
  },
  {
   "cell_type": "markdown",
   "metadata": {},
   "source": [
    "### Metrics for evaluation"
   ]
  },
  {
   "cell_type": "code",
   "execution_count": 64,
   "metadata": {},
   "outputs": [
    {
     "name": "stdout",
     "output_type": "stream",
     "text": [
      "R_Square Score: 0.9355\n",
      "Mean Absolute Error: 0.3663\n",
      "Mean Squared Error: 0.7234\n",
      "RMSE: 0.8505\n"
     ]
    }
   ],
   "source": [
    "print(\"R_Square Score: \" +\"{:.4}\".format(r2_score(y_test, y_hat_mlr_poly)))\n",
    "print(\"Mean Absolute Error: \" +\"{:.4}\".format(mean_absolute_error(y_test, y_hat_mlr_poly)))\n",
    "print(\"Mean Squared Error: \" +\"{:.4}\".format(mean_squared_error(y_test, y_hat_mlr_poly)))\n",
    "print(\"RMSE: \" +\"{:.4}\".format(np.sqrt(mean_squared_error(y_test, y_hat_mlr_poly))))"
   ]
  },
  {
   "cell_type": "markdown",
   "metadata": {},
   "source": [
    "### Create a pipeline to streamline the process"
   ]
  },
  {
   "cell_type": "code",
   "execution_count": 65,
   "metadata": {},
   "outputs": [],
   "source": [
    "Operations2 =[('scale',StandardScaler()), ('polynomial', PolynomialFeatures()), ('linear',LinearRegression())]\n",
    "\n",
    "mlr_pipe = Pipeline(Operations2)\n",
    "mlr_pipe.fit(X2_train,y_train)\n",
    "y_hat_mlr_pipe = mlr_pipe.predict(X2_test)\n"
   ]
  },
  {
   "cell_type": "markdown",
   "metadata": {},
   "source": [
    "### Pipeline Metrics for evaluation"
   ]
  },
  {
   "cell_type": "code",
   "execution_count": 66,
   "metadata": {},
   "outputs": [
    {
     "name": "stdout",
     "output_type": "stream",
     "text": [
      "R_Square Score: 0.9355\n",
      "Mean Absolute Error: 0.3663\n",
      "Mean Squared Error: 0.7234\n",
      "RMSE: 0.8505\n"
     ]
    }
   ],
   "source": [
    "print(\"R_Square Score: \" +\"{:.4}\".format(r2_score(y_test, y_hat_mlr_pipe)))\n",
    "print(\"Mean Absolute Error: \" +\"{:.4}\".format(mean_absolute_error(y_test, y_hat_mlr_pipe)))\n",
    "print(\"Mean Squared Error: \" +\"{:.4}\".format(mean_squared_error(y_test, y_hat_mlr_pipe)))\n",
    "print(\"RMSE: \" +\"{:.4}\".format(np.sqrt(mean_squared_error(y_test, y_hat_mlr_pipe))))"
   ]
  },
  {
   "cell_type": "markdown",
   "metadata": {},
   "source": [
    "# Comparison Of Models"
   ]
  },
  {
   "cell_type": "markdown",
   "metadata": {},
   "source": [
    "### Linear Regression Results"
   ]
  },
  {
   "cell_type": "code",
   "execution_count": 67,
   "metadata": {},
   "outputs": [
    {
     "data": {
      "text/html": [
       "<div>\n",
       "<style scoped>\n",
       "    .dataframe tbody tr th:only-of-type {\n",
       "        vertical-align: middle;\n",
       "    }\n",
       "\n",
       "    .dataframe tbody tr th {\n",
       "        vertical-align: top;\n",
       "    }\n",
       "\n",
       "    .dataframe thead th {\n",
       "        text-align: right;\n",
       "    }\n",
       "</style>\n",
       "<table border=\"1\" class=\"dataframe\">\n",
       "  <thead>\n",
       "    <tr style=\"text-align: right;\">\n",
       "      <th></th>\n",
       "      <th>Simple Linear Regression</th>\n",
       "      <th>Multiple Linear Regression</th>\n",
       "    </tr>\n",
       "    <tr>\n",
       "      <th>Metrics</th>\n",
       "      <th></th>\n",
       "      <th></th>\n",
       "    </tr>\n",
       "  </thead>\n",
       "  <tbody>\n",
       "    <tr>\n",
       "      <th>Intercept</th>\n",
       "      <td>8.399</td>\n",
       "      <td>8.399</td>\n",
       "    </tr>\n",
       "    <tr>\n",
       "      <th>Co-efficients</th>\n",
       "      <td>-2.662</td>\n",
       "      <td>0.83389047, -3.54019359,  1.60616233,  1.95664699</td>\n",
       "    </tr>\n",
       "    <tr>\n",
       "      <th>Accuracy</th>\n",
       "      <td>68.10</td>\n",
       "      <td>93.31</td>\n",
       "    </tr>\n",
       "    <tr>\n",
       "      <th>R-Squared</th>\n",
       "      <td>0.681</td>\n",
       "      <td>0.9331</td>\n",
       "    </tr>\n",
       "    <tr>\n",
       "      <th>MAE</th>\n",
       "      <td>1.416</td>\n",
       "      <td>0.3755</td>\n",
       "    </tr>\n",
       "    <tr>\n",
       "      <th>MSE</th>\n",
       "      <td>3.58</td>\n",
       "      <td>0.7506</td>\n",
       "    </tr>\n",
       "    <tr>\n",
       "      <th>RMSE</th>\n",
       "      <td>1.892</td>\n",
       "      <td>0.8664</td>\n",
       "    </tr>\n",
       "  </tbody>\n",
       "</table>\n",
       "</div>"
      ],
      "text/plain": [
       "              Simple Linear Regression  \\\n",
       "Metrics                                  \n",
       "Intercept                        8.399   \n",
       "Co-efficients                   -2.662   \n",
       "Accuracy                         68.10   \n",
       "R-Squared                        0.681   \n",
       "MAE                              1.416   \n",
       "MSE                               3.58   \n",
       "RMSE                             1.892   \n",
       "\n",
       "                                      Multiple Linear Regression  \n",
       "Metrics                                                           \n",
       "Intercept                                                  8.399  \n",
       "Co-efficients  0.83389047, -3.54019359,  1.60616233,  1.95664699  \n",
       "Accuracy                                                   93.31  \n",
       "R-Squared                                                 0.9331  \n",
       "MAE                                                       0.3755  \n",
       "MSE                                                       0.7506  \n",
       "RMSE                                                      0.8664  "
      ]
     },
     "execution_count": 67,
     "metadata": {},
     "output_type": "execute_result"
    }
   ],
   "source": [
    "Data1 = {'Simple Linear Regression':  ['8.399', '-2.662','68.10','0.681','1.416','3.58','1.892'],\n",
    "        'Multiple Linear Regression': ['8.399', \"0.83389047, -3.54019359,  1.60616233,  1.95664699\",'93.31','0.9331','0.3755','0.7506','0.8664'],\n",
    "         'Metrics':[\"Intercept\",\"Co-efficients\",\"Accuracy\",\"R-Squared\",\"MAE\",\"MSE\",\"RMSE\"]}\n",
    "\n",
    "tab = pd.DataFrame (Data1, columns = ['Simple Linear Regression','Multiple Linear Regression','Metrics'])\n",
    "tab.set_index(\"Metrics\",inplace = True)\n",
    "tab"
   ]
  },
  {
   "cell_type": "markdown",
   "metadata": {},
   "source": [
    "### Non-Linear Regression Results"
   ]
  },
  {
   "cell_type": "code",
   "execution_count": 68,
   "metadata": {},
   "outputs": [
    {
     "data": {
      "text/html": [
       "<div>\n",
       "<style scoped>\n",
       "    .dataframe tbody tr th:only-of-type {\n",
       "        vertical-align: middle;\n",
       "    }\n",
       "\n",
       "    .dataframe tbody tr th {\n",
       "        vertical-align: top;\n",
       "    }\n",
       "\n",
       "    .dataframe thead th {\n",
       "        text-align: right;\n",
       "    }\n",
       "</style>\n",
       "<table border=\"1\" class=\"dataframe\">\n",
       "  <thead>\n",
       "    <tr style=\"text-align: right;\">\n",
       "      <th></th>\n",
       "      <th>Single Feature Regression(polynomial)</th>\n",
       "      <th>Multiple Features Regression(polynomial)</th>\n",
       "    </tr>\n",
       "    <tr>\n",
       "      <th>Metrics</th>\n",
       "      <th></th>\n",
       "      <th></th>\n",
       "    </tr>\n",
       "  </thead>\n",
       "  <tbody>\n",
       "    <tr>\n",
       "      <th>MAE</th>\n",
       "      <td>1.124</td>\n",
       "      <td>0.3663</td>\n",
       "    </tr>\n",
       "    <tr>\n",
       "      <th>MSE</th>\n",
       "      <td>2.511</td>\n",
       "      <td>0.7234</td>\n",
       "    </tr>\n",
       "    <tr>\n",
       "      <th>RMSE</th>\n",
       "      <td>1.585</td>\n",
       "      <td>0.8505</td>\n",
       "    </tr>\n",
       "  </tbody>\n",
       "</table>\n",
       "</div>"
      ],
      "text/plain": [
       "        Single Feature Regression(polynomial)  \\\n",
       "Metrics                                         \n",
       "MAE                                     1.124   \n",
       "MSE                                     2.511   \n",
       "RMSE                                    1.585   \n",
       "\n",
       "        Multiple Features Regression(polynomial)  \n",
       "Metrics                                           \n",
       "MAE                                       0.3663  \n",
       "MSE                                       0.7234  \n",
       "RMSE                                      0.8505  "
      ]
     },
     "execution_count": 68,
     "metadata": {},
     "output_type": "execute_result"
    }
   ],
   "source": [
    "Data2 = {'Single Feature Regression(polynomial)':  ['1.124', '2.511','1.585'],\n",
    "        'Multiple Features Regression(polynomial)': ['0.3663','0.7234','0.8505'],\n",
    "         'Metrics':[\"MAE\",\"MSE\",\"RMSE\"]}\n",
    "\n",
    "tab2 = pd.DataFrame (Data2, columns = ['Single Feature Regression(polynomial)','Multiple Features Regression(polynomial)','Metrics'])\n",
    "tab2.set_index(\"Metrics\",inplace = True)\n",
    "tab2"
   ]
  },
  {
   "cell_type": "code",
   "execution_count": null,
   "metadata": {},
   "outputs": [],
   "source": []
  }
 ],
 "metadata": {
  "kernelspec": {
   "display_name": "Python 3",
   "language": "python",
   "name": "python3"
  },
  "language_info": {
   "codemirror_mode": {
    "name": "ipython",
    "version": 3
   },
   "file_extension": ".py",
   "mimetype": "text/x-python",
   "name": "python",
   "nbconvert_exporter": "python",
   "pygments_lexer": "ipython3",
   "version": "3.7.1"
  }
 },
 "nbformat": 4,
 "nbformat_minor": 2
}
